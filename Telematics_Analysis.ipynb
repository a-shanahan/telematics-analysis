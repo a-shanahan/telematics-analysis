{
  "nbformat": 4,
  "nbformat_minor": 0,
  "metadata": {
    "colab": {
      "provenance": [],
      "collapsed_sections": [],
      "authorship_tag": "ABX9TyMbAaWG7uLL37sC5kA4qpuo"
    },
    "kernelspec": {
      "name": "python3",
      "display_name": "Python 3"
    },
    "language_info": {
      "name": "python"
    },
    "accelerator": "GPU"
  },
  "cells": [
    {
      "cell_type": "markdown",
      "source": [
        "#Telematics\n",
        "\n",
        "Telematics data downloaded from [kaggle](https://www.kaggle.com/yunlevin/levin-vehicle-telematics) download link.\n"
      ],
      "metadata": {
        "id": "2n4GY3EPfn6o"
      }
    },
    {
      "cell_type": "markdown",
      "source": [
        "##Data download and extraction"
      ],
      "metadata": {
        "id": "-LmEgVAtf_4m"
      }
    },
    {
      "cell_type": "code",
      "execution_count": null,
      "metadata": {
        "id": "rvhHNoflQlex"
      },
      "outputs": [],
      "source": [
        "# Kaggle download\n",
        "!pip -q install kaggle\n",
        "# UMAP and plotting deps\n",
        "!pip -q install umap-learn[plot]\n",
        "!pip -q install umap-learn\n",
        "!pip -q install matplotlib\n",
        "!pip -q install datashader\n",
        "!pip -q install bokeh\n",
        "!pip -q install holoviews"
      ]
    },
    {
      "cell_type": "code",
      "source": [
        "# Upload kaggle key\n",
        "from google.colab import files\n",
        "files.upload()"
      ],
      "metadata": {
        "id": "DrFF3BYVQrH-"
      },
      "execution_count": null,
      "outputs": []
    },
    {
      "cell_type": "code",
      "source": [
        "# Modify key permission and download data\n",
        "!mkdir -p ~/.kaggle                                               \n",
        "!cp kaggle.json ~/.kaggle/\n",
        "!chmod 600 /root/.kaggle/kaggle.json\n",
        "!kaggle datasets download -d yunlevin/levin-vehicle-telematics\n",
        "!unzip levin-vehicle-telematics.zip"
      ],
      "metadata": {
        "id": "sq0VM-TpQyGx"
      },
      "execution_count": null,
      "outputs": []
    },
    {
      "cell_type": "markdown",
      "source": [
        "##EDA"
      ],
      "metadata": {
        "id": "u8dIM5DZfl06"
      }
    },
    {
      "cell_type": "code",
      "source": [
        "import pandas as pd\n",
        "df = pd.read_csv('v2.csv')\n",
        "df.head()"
      ],
      "metadata": {
        "colab": {
          "base_uri": "https://localhost:8080/",
          "height": 392
        },
        "id": "tLRtxm8DSMpc",
        "outputId": "eb5d867c-2b7a-41b2-9fbb-8b8cf74ce818"
      },
      "execution_count": null,
      "outputs": [
        {
          "output_type": "stream",
          "name": "stderr",
          "text": [
            "/usr/local/lib/python3.7/dist-packages/IPython/core/interactiveshell.py:3326: DtypeWarning: Columns (0,1,3,4,5,6,7,8,9,10,11,12,13,14,15,16) have mixed types.Specify dtype option on import or set low_memory=False.\n",
            "  exec(code_obj, self.user_global_ns, self.user_ns)\n"
          ]
        },
        {
          "output_type": "execute_result",
          "data": {
            "text/plain": [
              "  tripID deviceID            timeStamp  \\\n",
              "0      1      0.0  2017-12-22 18:43:05   \n",
              "1      1      0.0  2017-12-22 18:43:06   \n",
              "2      1      0.0  2017-12-22 18:43:07   \n",
              "3      1      0.0  2017-12-22 18:43:08   \n",
              "4      1      0.0  2017-12-22 18:43:09   \n",
              "\n",
              "                                             accData gps_speed battery cTemp  \\\n",
              "0  10c0f8e00448fa18c80515d30000000000000000000000...   24.2612     0.0  66.0   \n",
              "1  1138f8c804780a1ebdf718bcf919d10617c8e301b31017...     23.15     0.0  66.0   \n",
              "2  10f0f89804480612c30010c30714ce0520b7f41dbdf118...   18.7052     0.0  66.0   \n",
              "3  10d0f84804480d15bd0210c9f822c80017caf81ccd0517...   16.4828     0.0  66.0   \n",
              "4  1090f8c80480041dc9081cc50815c60511c60112c40514...   17.4088     0.0  66.0   \n",
              "\n",
              "   dtc    eLoad   iat  imap  kpl  maf      rpm speed tAdv tPos  \n",
              "0  0.0  28.6275  40.0  97.0  0.0  0.0  1010.75  23.0  0.0  0.0  \n",
              "1  0.0  33.7255  40.0  98.0  0.0  0.0    815.5  21.0  0.0  0.0  \n",
              "2  0.0  43.1373  40.0  98.0  0.0  0.0   862.25  17.0  0.0  0.0  \n",
              "3  0.0  41.5686  40.0  97.0  0.0  0.0    817.0  17.0  0.0  0.0  \n",
              "4  0.0  43.1373  40.0  97.0  0.0  0.0   804.25  15.0  0.0  0.0  "
            ],
            "text/html": [
              "\n",
              "  <div id=\"df-d4785f3b-34ce-43da-afc4-4fecb5c19891\">\n",
              "    <div class=\"colab-df-container\">\n",
              "      <div>\n",
              "<style scoped>\n",
              "    .dataframe tbody tr th:only-of-type {\n",
              "        vertical-align: middle;\n",
              "    }\n",
              "\n",
              "    .dataframe tbody tr th {\n",
              "        vertical-align: top;\n",
              "    }\n",
              "\n",
              "    .dataframe thead th {\n",
              "        text-align: right;\n",
              "    }\n",
              "</style>\n",
              "<table border=\"1\" class=\"dataframe\">\n",
              "  <thead>\n",
              "    <tr style=\"text-align: right;\">\n",
              "      <th></th>\n",
              "      <th>tripID</th>\n",
              "      <th>deviceID</th>\n",
              "      <th>timeStamp</th>\n",
              "      <th>accData</th>\n",
              "      <th>gps_speed</th>\n",
              "      <th>battery</th>\n",
              "      <th>cTemp</th>\n",
              "      <th>dtc</th>\n",
              "      <th>eLoad</th>\n",
              "      <th>iat</th>\n",
              "      <th>imap</th>\n",
              "      <th>kpl</th>\n",
              "      <th>maf</th>\n",
              "      <th>rpm</th>\n",
              "      <th>speed</th>\n",
              "      <th>tAdv</th>\n",
              "      <th>tPos</th>\n",
              "    </tr>\n",
              "  </thead>\n",
              "  <tbody>\n",
              "    <tr>\n",
              "      <th>0</th>\n",
              "      <td>1</td>\n",
              "      <td>0.0</td>\n",
              "      <td>2017-12-22 18:43:05</td>\n",
              "      <td>10c0f8e00448fa18c80515d30000000000000000000000...</td>\n",
              "      <td>24.2612</td>\n",
              "      <td>0.0</td>\n",
              "      <td>66.0</td>\n",
              "      <td>0.0</td>\n",
              "      <td>28.6275</td>\n",
              "      <td>40.0</td>\n",
              "      <td>97.0</td>\n",
              "      <td>0.0</td>\n",
              "      <td>0.0</td>\n",
              "      <td>1010.75</td>\n",
              "      <td>23.0</td>\n",
              "      <td>0.0</td>\n",
              "      <td>0.0</td>\n",
              "    </tr>\n",
              "    <tr>\n",
              "      <th>1</th>\n",
              "      <td>1</td>\n",
              "      <td>0.0</td>\n",
              "      <td>2017-12-22 18:43:06</td>\n",
              "      <td>1138f8c804780a1ebdf718bcf919d10617c8e301b31017...</td>\n",
              "      <td>23.15</td>\n",
              "      <td>0.0</td>\n",
              "      <td>66.0</td>\n",
              "      <td>0.0</td>\n",
              "      <td>33.7255</td>\n",
              "      <td>40.0</td>\n",
              "      <td>98.0</td>\n",
              "      <td>0.0</td>\n",
              "      <td>0.0</td>\n",
              "      <td>815.5</td>\n",
              "      <td>21.0</td>\n",
              "      <td>0.0</td>\n",
              "      <td>0.0</td>\n",
              "    </tr>\n",
              "    <tr>\n",
              "      <th>2</th>\n",
              "      <td>1</td>\n",
              "      <td>0.0</td>\n",
              "      <td>2017-12-22 18:43:07</td>\n",
              "      <td>10f0f89804480612c30010c30714ce0520b7f41dbdf118...</td>\n",
              "      <td>18.7052</td>\n",
              "      <td>0.0</td>\n",
              "      <td>66.0</td>\n",
              "      <td>0.0</td>\n",
              "      <td>43.1373</td>\n",
              "      <td>40.0</td>\n",
              "      <td>98.0</td>\n",
              "      <td>0.0</td>\n",
              "      <td>0.0</td>\n",
              "      <td>862.25</td>\n",
              "      <td>17.0</td>\n",
              "      <td>0.0</td>\n",
              "      <td>0.0</td>\n",
              "    </tr>\n",
              "    <tr>\n",
              "      <th>3</th>\n",
              "      <td>1</td>\n",
              "      <td>0.0</td>\n",
              "      <td>2017-12-22 18:43:08</td>\n",
              "      <td>10d0f84804480d15bd0210c9f822c80017caf81ccd0517...</td>\n",
              "      <td>16.4828</td>\n",
              "      <td>0.0</td>\n",
              "      <td>66.0</td>\n",
              "      <td>0.0</td>\n",
              "      <td>41.5686</td>\n",
              "      <td>40.0</td>\n",
              "      <td>97.0</td>\n",
              "      <td>0.0</td>\n",
              "      <td>0.0</td>\n",
              "      <td>817.0</td>\n",
              "      <td>17.0</td>\n",
              "      <td>0.0</td>\n",
              "      <td>0.0</td>\n",
              "    </tr>\n",
              "    <tr>\n",
              "      <th>4</th>\n",
              "      <td>1</td>\n",
              "      <td>0.0</td>\n",
              "      <td>2017-12-22 18:43:09</td>\n",
              "      <td>1090f8c80480041dc9081cc50815c60511c60112c40514...</td>\n",
              "      <td>17.4088</td>\n",
              "      <td>0.0</td>\n",
              "      <td>66.0</td>\n",
              "      <td>0.0</td>\n",
              "      <td>43.1373</td>\n",
              "      <td>40.0</td>\n",
              "      <td>97.0</td>\n",
              "      <td>0.0</td>\n",
              "      <td>0.0</td>\n",
              "      <td>804.25</td>\n",
              "      <td>15.0</td>\n",
              "      <td>0.0</td>\n",
              "      <td>0.0</td>\n",
              "    </tr>\n",
              "  </tbody>\n",
              "</table>\n",
              "</div>\n",
              "      <button class=\"colab-df-convert\" onclick=\"convertToInteractive('df-d4785f3b-34ce-43da-afc4-4fecb5c19891')\"\n",
              "              title=\"Convert this dataframe to an interactive table.\"\n",
              "              style=\"display:none;\">\n",
              "        \n",
              "  <svg xmlns=\"http://www.w3.org/2000/svg\" height=\"24px\"viewBox=\"0 0 24 24\"\n",
              "       width=\"24px\">\n",
              "    <path d=\"M0 0h24v24H0V0z\" fill=\"none\"/>\n",
              "    <path d=\"M18.56 5.44l.94 2.06.94-2.06 2.06-.94-2.06-.94-.94-2.06-.94 2.06-2.06.94zm-11 1L8.5 8.5l.94-2.06 2.06-.94-2.06-.94L8.5 2.5l-.94 2.06-2.06.94zm10 10l.94 2.06.94-2.06 2.06-.94-2.06-.94-.94-2.06-.94 2.06-2.06.94z\"/><path d=\"M17.41 7.96l-1.37-1.37c-.4-.4-.92-.59-1.43-.59-.52 0-1.04.2-1.43.59L10.3 9.45l-7.72 7.72c-.78.78-.78 2.05 0 2.83L4 21.41c.39.39.9.59 1.41.59.51 0 1.02-.2 1.41-.59l7.78-7.78 2.81-2.81c.8-.78.8-2.07 0-2.86zM5.41 20L4 18.59l7.72-7.72 1.47 1.35L5.41 20z\"/>\n",
              "  </svg>\n",
              "      </button>\n",
              "      \n",
              "  <style>\n",
              "    .colab-df-container {\n",
              "      display:flex;\n",
              "      flex-wrap:wrap;\n",
              "      gap: 12px;\n",
              "    }\n",
              "\n",
              "    .colab-df-convert {\n",
              "      background-color: #E8F0FE;\n",
              "      border: none;\n",
              "      border-radius: 50%;\n",
              "      cursor: pointer;\n",
              "      display: none;\n",
              "      fill: #1967D2;\n",
              "      height: 32px;\n",
              "      padding: 0 0 0 0;\n",
              "      width: 32px;\n",
              "    }\n",
              "\n",
              "    .colab-df-convert:hover {\n",
              "      background-color: #E2EBFA;\n",
              "      box-shadow: 0px 1px 2px rgba(60, 64, 67, 0.3), 0px 1px 3px 1px rgba(60, 64, 67, 0.15);\n",
              "      fill: #174EA6;\n",
              "    }\n",
              "\n",
              "    [theme=dark] .colab-df-convert {\n",
              "      background-color: #3B4455;\n",
              "      fill: #D2E3FC;\n",
              "    }\n",
              "\n",
              "    [theme=dark] .colab-df-convert:hover {\n",
              "      background-color: #434B5C;\n",
              "      box-shadow: 0px 1px 3px 1px rgba(0, 0, 0, 0.15);\n",
              "      filter: drop-shadow(0px 1px 2px rgba(0, 0, 0, 0.3));\n",
              "      fill: #FFFFFF;\n",
              "    }\n",
              "  </style>\n",
              "\n",
              "      <script>\n",
              "        const buttonEl =\n",
              "          document.querySelector('#df-d4785f3b-34ce-43da-afc4-4fecb5c19891 button.colab-df-convert');\n",
              "        buttonEl.style.display =\n",
              "          google.colab.kernel.accessAllowed ? 'block' : 'none';\n",
              "\n",
              "        async function convertToInteractive(key) {\n",
              "          const element = document.querySelector('#df-d4785f3b-34ce-43da-afc4-4fecb5c19891');\n",
              "          const dataTable =\n",
              "            await google.colab.kernel.invokeFunction('convertToInteractive',\n",
              "                                                     [key], {});\n",
              "          if (!dataTable) return;\n",
              "\n",
              "          const docLinkHtml = 'Like what you see? Visit the ' +\n",
              "            '<a target=\"_blank\" href=https://colab.research.google.com/notebooks/data_table.ipynb>data table notebook</a>'\n",
              "            + ' to learn more about interactive tables.';\n",
              "          element.innerHTML = '';\n",
              "          dataTable['output_type'] = 'display_data';\n",
              "          await google.colab.output.renderOutput(dataTable, element);\n",
              "          const docLink = document.createElement('div');\n",
              "          docLink.innerHTML = docLinkHtml;\n",
              "          element.appendChild(docLink);\n",
              "        }\n",
              "      </script>\n",
              "    </div>\n",
              "  </div>\n",
              "  "
            ]
          },
          "metadata": {},
          "execution_count": 3
        }
      ]
    },
    {
      "cell_type": "code",
      "source": [
        "df.describe()"
      ],
      "metadata": {
        "colab": {
          "base_uri": "https://localhost:8080/",
          "height": 239
        },
        "id": "6E6CxH8ASUPy",
        "outputId": "8b68806d-3941-4f31-d106-16fb7387669e"
      },
      "execution_count": null,
      "outputs": [
        {
          "output_type": "execute_result",
          "data": {
            "text/plain": [
              "         tripID   deviceID  timeStamp  accData  gps_speed    battery  \\\n",
              "count   3120272  3120272.0    3120272  3120272  3120272.0  3120272.0   \n",
              "unique      694       24.0    1740023  1811225    13604.0      997.0   \n",
              "top          67       12.0  timeStamp        0        0.0        0.0   \n",
              "freq      34488   655360.0         32   425984   649936.0  1970863.0   \n",
              "\n",
              "            cTemp        dtc      eLoad        iat       imap        kpl  \\\n",
              "count   3120272.0  3120272.0  3120272.0  3120272.0  3120272.0  3120272.0   \n",
              "unique      269.0        6.0      515.0      164.0      644.0   168888.0   \n",
              "top           0.0        0.0        0.0        0.0        0.0        0.0   \n",
              "freq     513870.0  2399305.0   680665.0   513825.0   513935.0  1034334.0   \n",
              "\n",
              "              maf        rpm      speed       tAdv       tPos  \n",
              "count   3120272.0  3120272.0  3120272.0  3120272.0  3120272.0  \n",
              "unique    11608.0    21706.0      416.0      306.0      505.0  \n",
              "top           0.0        0.0        0.0        0.0        0.0  \n",
              "freq     794353.0   600135.0   832334.0  1984426.0  1542214.0  "
            ],
            "text/html": [
              "\n",
              "  <div id=\"df-67fd7a9e-b844-4be4-93b8-44acb58a3492\">\n",
              "    <div class=\"colab-df-container\">\n",
              "      <div>\n",
              "<style scoped>\n",
              "    .dataframe tbody tr th:only-of-type {\n",
              "        vertical-align: middle;\n",
              "    }\n",
              "\n",
              "    .dataframe tbody tr th {\n",
              "        vertical-align: top;\n",
              "    }\n",
              "\n",
              "    .dataframe thead th {\n",
              "        text-align: right;\n",
              "    }\n",
              "</style>\n",
              "<table border=\"1\" class=\"dataframe\">\n",
              "  <thead>\n",
              "    <tr style=\"text-align: right;\">\n",
              "      <th></th>\n",
              "      <th>tripID</th>\n",
              "      <th>deviceID</th>\n",
              "      <th>timeStamp</th>\n",
              "      <th>accData</th>\n",
              "      <th>gps_speed</th>\n",
              "      <th>battery</th>\n",
              "      <th>cTemp</th>\n",
              "      <th>dtc</th>\n",
              "      <th>eLoad</th>\n",
              "      <th>iat</th>\n",
              "      <th>imap</th>\n",
              "      <th>kpl</th>\n",
              "      <th>maf</th>\n",
              "      <th>rpm</th>\n",
              "      <th>speed</th>\n",
              "      <th>tAdv</th>\n",
              "      <th>tPos</th>\n",
              "    </tr>\n",
              "  </thead>\n",
              "  <tbody>\n",
              "    <tr>\n",
              "      <th>count</th>\n",
              "      <td>3120272</td>\n",
              "      <td>3120272.0</td>\n",
              "      <td>3120272</td>\n",
              "      <td>3120272</td>\n",
              "      <td>3120272.0</td>\n",
              "      <td>3120272.0</td>\n",
              "      <td>3120272.0</td>\n",
              "      <td>3120272.0</td>\n",
              "      <td>3120272.0</td>\n",
              "      <td>3120272.0</td>\n",
              "      <td>3120272.0</td>\n",
              "      <td>3120272.0</td>\n",
              "      <td>3120272.0</td>\n",
              "      <td>3120272.0</td>\n",
              "      <td>3120272.0</td>\n",
              "      <td>3120272.0</td>\n",
              "      <td>3120272.0</td>\n",
              "    </tr>\n",
              "    <tr>\n",
              "      <th>unique</th>\n",
              "      <td>694</td>\n",
              "      <td>24.0</td>\n",
              "      <td>1740023</td>\n",
              "      <td>1811225</td>\n",
              "      <td>13604.0</td>\n",
              "      <td>997.0</td>\n",
              "      <td>269.0</td>\n",
              "      <td>6.0</td>\n",
              "      <td>515.0</td>\n",
              "      <td>164.0</td>\n",
              "      <td>644.0</td>\n",
              "      <td>168888.0</td>\n",
              "      <td>11608.0</td>\n",
              "      <td>21706.0</td>\n",
              "      <td>416.0</td>\n",
              "      <td>306.0</td>\n",
              "      <td>505.0</td>\n",
              "    </tr>\n",
              "    <tr>\n",
              "      <th>top</th>\n",
              "      <td>67</td>\n",
              "      <td>12.0</td>\n",
              "      <td>timeStamp</td>\n",
              "      <td>0</td>\n",
              "      <td>0.0</td>\n",
              "      <td>0.0</td>\n",
              "      <td>0.0</td>\n",
              "      <td>0.0</td>\n",
              "      <td>0.0</td>\n",
              "      <td>0.0</td>\n",
              "      <td>0.0</td>\n",
              "      <td>0.0</td>\n",
              "      <td>0.0</td>\n",
              "      <td>0.0</td>\n",
              "      <td>0.0</td>\n",
              "      <td>0.0</td>\n",
              "      <td>0.0</td>\n",
              "    </tr>\n",
              "    <tr>\n",
              "      <th>freq</th>\n",
              "      <td>34488</td>\n",
              "      <td>655360.0</td>\n",
              "      <td>32</td>\n",
              "      <td>425984</td>\n",
              "      <td>649936.0</td>\n",
              "      <td>1970863.0</td>\n",
              "      <td>513870.0</td>\n",
              "      <td>2399305.0</td>\n",
              "      <td>680665.0</td>\n",
              "      <td>513825.0</td>\n",
              "      <td>513935.0</td>\n",
              "      <td>1034334.0</td>\n",
              "      <td>794353.0</td>\n",
              "      <td>600135.0</td>\n",
              "      <td>832334.0</td>\n",
              "      <td>1984426.0</td>\n",
              "      <td>1542214.0</td>\n",
              "    </tr>\n",
              "  </tbody>\n",
              "</table>\n",
              "</div>\n",
              "      <button class=\"colab-df-convert\" onclick=\"convertToInteractive('df-67fd7a9e-b844-4be4-93b8-44acb58a3492')\"\n",
              "              title=\"Convert this dataframe to an interactive table.\"\n",
              "              style=\"display:none;\">\n",
              "        \n",
              "  <svg xmlns=\"http://www.w3.org/2000/svg\" height=\"24px\"viewBox=\"0 0 24 24\"\n",
              "       width=\"24px\">\n",
              "    <path d=\"M0 0h24v24H0V0z\" fill=\"none\"/>\n",
              "    <path d=\"M18.56 5.44l.94 2.06.94-2.06 2.06-.94-2.06-.94-.94-2.06-.94 2.06-2.06.94zm-11 1L8.5 8.5l.94-2.06 2.06-.94-2.06-.94L8.5 2.5l-.94 2.06-2.06.94zm10 10l.94 2.06.94-2.06 2.06-.94-2.06-.94-.94-2.06-.94 2.06-2.06.94z\"/><path d=\"M17.41 7.96l-1.37-1.37c-.4-.4-.92-.59-1.43-.59-.52 0-1.04.2-1.43.59L10.3 9.45l-7.72 7.72c-.78.78-.78 2.05 0 2.83L4 21.41c.39.39.9.59 1.41.59.51 0 1.02-.2 1.41-.59l7.78-7.78 2.81-2.81c.8-.78.8-2.07 0-2.86zM5.41 20L4 18.59l7.72-7.72 1.47 1.35L5.41 20z\"/>\n",
              "  </svg>\n",
              "      </button>\n",
              "      \n",
              "  <style>\n",
              "    .colab-df-container {\n",
              "      display:flex;\n",
              "      flex-wrap:wrap;\n",
              "      gap: 12px;\n",
              "    }\n",
              "\n",
              "    .colab-df-convert {\n",
              "      background-color: #E8F0FE;\n",
              "      border: none;\n",
              "      border-radius: 50%;\n",
              "      cursor: pointer;\n",
              "      display: none;\n",
              "      fill: #1967D2;\n",
              "      height: 32px;\n",
              "      padding: 0 0 0 0;\n",
              "      width: 32px;\n",
              "    }\n",
              "\n",
              "    .colab-df-convert:hover {\n",
              "      background-color: #E2EBFA;\n",
              "      box-shadow: 0px 1px 2px rgba(60, 64, 67, 0.3), 0px 1px 3px 1px rgba(60, 64, 67, 0.15);\n",
              "      fill: #174EA6;\n",
              "    }\n",
              "\n",
              "    [theme=dark] .colab-df-convert {\n",
              "      background-color: #3B4455;\n",
              "      fill: #D2E3FC;\n",
              "    }\n",
              "\n",
              "    [theme=dark] .colab-df-convert:hover {\n",
              "      background-color: #434B5C;\n",
              "      box-shadow: 0px 1px 3px 1px rgba(0, 0, 0, 0.15);\n",
              "      filter: drop-shadow(0px 1px 2px rgba(0, 0, 0, 0.3));\n",
              "      fill: #FFFFFF;\n",
              "    }\n",
              "  </style>\n",
              "\n",
              "      <script>\n",
              "        const buttonEl =\n",
              "          document.querySelector('#df-67fd7a9e-b844-4be4-93b8-44acb58a3492 button.colab-df-convert');\n",
              "        buttonEl.style.display =\n",
              "          google.colab.kernel.accessAllowed ? 'block' : 'none';\n",
              "\n",
              "        async function convertToInteractive(key) {\n",
              "          const element = document.querySelector('#df-67fd7a9e-b844-4be4-93b8-44acb58a3492');\n",
              "          const dataTable =\n",
              "            await google.colab.kernel.invokeFunction('convertToInteractive',\n",
              "                                                     [key], {});\n",
              "          if (!dataTable) return;\n",
              "\n",
              "          const docLinkHtml = 'Like what you see? Visit the ' +\n",
              "            '<a target=\"_blank\" href=https://colab.research.google.com/notebooks/data_table.ipynb>data table notebook</a>'\n",
              "            + ' to learn more about interactive tables.';\n",
              "          element.innerHTML = '';\n",
              "          dataTable['output_type'] = 'display_data';\n",
              "          await google.colab.output.renderOutput(dataTable, element);\n",
              "          const docLink = document.createElement('div');\n",
              "          docLink.innerHTML = docLinkHtml;\n",
              "          element.appendChild(docLink);\n",
              "        }\n",
              "      </script>\n",
              "    </div>\n",
              "  </div>\n",
              "  "
            ]
          },
          "metadata": {},
          "execution_count": 4
        }
      ]
    },
    {
      "cell_type": "markdown",
      "source": [
        "Top value for timeStamp is 'timeStamp'. Indicates some data quality issues"
      ],
      "metadata": {
        "id": "y3B7c0fIBt_r"
      }
    },
    {
      "cell_type": "code",
      "source": [
        "df[df.timeStamp=='timeStamp'].head()"
      ],
      "metadata": {
        "colab": {
          "base_uri": "https://localhost:8080/",
          "height": 206
        },
        "id": "vx5_3BqGB1Yg",
        "outputId": "8c4ae621-9cc4-4bfb-98a5-f9cf7f29e2b1"
      },
      "execution_count": null,
      "outputs": [
        {
          "output_type": "execute_result",
          "data": {
            "text/plain": [
              "        tripID  deviceID  timeStamp  accData  gps_speed  battery  cTemp  dtc  \\\n",
              "106461  tripID  deviceID  timeStamp  accData  gps_speed  battery  cTemp  dtc   \n",
              "376682  tripID  deviceID  timeStamp  accData  gps_speed  battery  cTemp  dtc   \n",
              "630522  tripID  deviceID  timeStamp  accData  gps_speed  battery  cTemp  dtc   \n",
              "631504  tripID  deviceID  timeStamp  accData  gps_speed  battery  cTemp  dtc   \n",
              "676250  tripID  deviceID  timeStamp  accData  gps_speed  battery  cTemp  dtc   \n",
              "\n",
              "        eLoad  iat  imap  kpl  maf  rpm  speed  tAdv  tPos  \n",
              "106461  eLoad  iat  imap  kpl  maf  rpm  speed  tAdv  tPos  \n",
              "376682  eLoad  iat  imap  kpl  maf  rpm  speed  tAdv  tPos  \n",
              "630522  eLoad  iat  imap  kpl  maf  rpm  speed  tAdv  tPos  \n",
              "631504  eLoad  iat  imap  kpl  maf  rpm  speed  tAdv  tPos  \n",
              "676250  eLoad  iat  imap  kpl  maf  rpm  speed  tAdv  tPos  "
            ],
            "text/html": [
              "\n",
              "  <div id=\"df-832a19a3-f22a-4cc7-8ff0-728603d71d69\">\n",
              "    <div class=\"colab-df-container\">\n",
              "      <div>\n",
              "<style scoped>\n",
              "    .dataframe tbody tr th:only-of-type {\n",
              "        vertical-align: middle;\n",
              "    }\n",
              "\n",
              "    .dataframe tbody tr th {\n",
              "        vertical-align: top;\n",
              "    }\n",
              "\n",
              "    .dataframe thead th {\n",
              "        text-align: right;\n",
              "    }\n",
              "</style>\n",
              "<table border=\"1\" class=\"dataframe\">\n",
              "  <thead>\n",
              "    <tr style=\"text-align: right;\">\n",
              "      <th></th>\n",
              "      <th>tripID</th>\n",
              "      <th>deviceID</th>\n",
              "      <th>timeStamp</th>\n",
              "      <th>accData</th>\n",
              "      <th>gps_speed</th>\n",
              "      <th>battery</th>\n",
              "      <th>cTemp</th>\n",
              "      <th>dtc</th>\n",
              "      <th>eLoad</th>\n",
              "      <th>iat</th>\n",
              "      <th>imap</th>\n",
              "      <th>kpl</th>\n",
              "      <th>maf</th>\n",
              "      <th>rpm</th>\n",
              "      <th>speed</th>\n",
              "      <th>tAdv</th>\n",
              "      <th>tPos</th>\n",
              "    </tr>\n",
              "  </thead>\n",
              "  <tbody>\n",
              "    <tr>\n",
              "      <th>106461</th>\n",
              "      <td>tripID</td>\n",
              "      <td>deviceID</td>\n",
              "      <td>timeStamp</td>\n",
              "      <td>accData</td>\n",
              "      <td>gps_speed</td>\n",
              "      <td>battery</td>\n",
              "      <td>cTemp</td>\n",
              "      <td>dtc</td>\n",
              "      <td>eLoad</td>\n",
              "      <td>iat</td>\n",
              "      <td>imap</td>\n",
              "      <td>kpl</td>\n",
              "      <td>maf</td>\n",
              "      <td>rpm</td>\n",
              "      <td>speed</td>\n",
              "      <td>tAdv</td>\n",
              "      <td>tPos</td>\n",
              "    </tr>\n",
              "    <tr>\n",
              "      <th>376682</th>\n",
              "      <td>tripID</td>\n",
              "      <td>deviceID</td>\n",
              "      <td>timeStamp</td>\n",
              "      <td>accData</td>\n",
              "      <td>gps_speed</td>\n",
              "      <td>battery</td>\n",
              "      <td>cTemp</td>\n",
              "      <td>dtc</td>\n",
              "      <td>eLoad</td>\n",
              "      <td>iat</td>\n",
              "      <td>imap</td>\n",
              "      <td>kpl</td>\n",
              "      <td>maf</td>\n",
              "      <td>rpm</td>\n",
              "      <td>speed</td>\n",
              "      <td>tAdv</td>\n",
              "      <td>tPos</td>\n",
              "    </tr>\n",
              "    <tr>\n",
              "      <th>630522</th>\n",
              "      <td>tripID</td>\n",
              "      <td>deviceID</td>\n",
              "      <td>timeStamp</td>\n",
              "      <td>accData</td>\n",
              "      <td>gps_speed</td>\n",
              "      <td>battery</td>\n",
              "      <td>cTemp</td>\n",
              "      <td>dtc</td>\n",
              "      <td>eLoad</td>\n",
              "      <td>iat</td>\n",
              "      <td>imap</td>\n",
              "      <td>kpl</td>\n",
              "      <td>maf</td>\n",
              "      <td>rpm</td>\n",
              "      <td>speed</td>\n",
              "      <td>tAdv</td>\n",
              "      <td>tPos</td>\n",
              "    </tr>\n",
              "    <tr>\n",
              "      <th>631504</th>\n",
              "      <td>tripID</td>\n",
              "      <td>deviceID</td>\n",
              "      <td>timeStamp</td>\n",
              "      <td>accData</td>\n",
              "      <td>gps_speed</td>\n",
              "      <td>battery</td>\n",
              "      <td>cTemp</td>\n",
              "      <td>dtc</td>\n",
              "      <td>eLoad</td>\n",
              "      <td>iat</td>\n",
              "      <td>imap</td>\n",
              "      <td>kpl</td>\n",
              "      <td>maf</td>\n",
              "      <td>rpm</td>\n",
              "      <td>speed</td>\n",
              "      <td>tAdv</td>\n",
              "      <td>tPos</td>\n",
              "    </tr>\n",
              "    <tr>\n",
              "      <th>676250</th>\n",
              "      <td>tripID</td>\n",
              "      <td>deviceID</td>\n",
              "      <td>timeStamp</td>\n",
              "      <td>accData</td>\n",
              "      <td>gps_speed</td>\n",
              "      <td>battery</td>\n",
              "      <td>cTemp</td>\n",
              "      <td>dtc</td>\n",
              "      <td>eLoad</td>\n",
              "      <td>iat</td>\n",
              "      <td>imap</td>\n",
              "      <td>kpl</td>\n",
              "      <td>maf</td>\n",
              "      <td>rpm</td>\n",
              "      <td>speed</td>\n",
              "      <td>tAdv</td>\n",
              "      <td>tPos</td>\n",
              "    </tr>\n",
              "  </tbody>\n",
              "</table>\n",
              "</div>\n",
              "      <button class=\"colab-df-convert\" onclick=\"convertToInteractive('df-832a19a3-f22a-4cc7-8ff0-728603d71d69')\"\n",
              "              title=\"Convert this dataframe to an interactive table.\"\n",
              "              style=\"display:none;\">\n",
              "        \n",
              "  <svg xmlns=\"http://www.w3.org/2000/svg\" height=\"24px\"viewBox=\"0 0 24 24\"\n",
              "       width=\"24px\">\n",
              "    <path d=\"M0 0h24v24H0V0z\" fill=\"none\"/>\n",
              "    <path d=\"M18.56 5.44l.94 2.06.94-2.06 2.06-.94-2.06-.94-.94-2.06-.94 2.06-2.06.94zm-11 1L8.5 8.5l.94-2.06 2.06-.94-2.06-.94L8.5 2.5l-.94 2.06-2.06.94zm10 10l.94 2.06.94-2.06 2.06-.94-2.06-.94-.94-2.06-.94 2.06-2.06.94z\"/><path d=\"M17.41 7.96l-1.37-1.37c-.4-.4-.92-.59-1.43-.59-.52 0-1.04.2-1.43.59L10.3 9.45l-7.72 7.72c-.78.78-.78 2.05 0 2.83L4 21.41c.39.39.9.59 1.41.59.51 0 1.02-.2 1.41-.59l7.78-7.78 2.81-2.81c.8-.78.8-2.07 0-2.86zM5.41 20L4 18.59l7.72-7.72 1.47 1.35L5.41 20z\"/>\n",
              "  </svg>\n",
              "      </button>\n",
              "      \n",
              "  <style>\n",
              "    .colab-df-container {\n",
              "      display:flex;\n",
              "      flex-wrap:wrap;\n",
              "      gap: 12px;\n",
              "    }\n",
              "\n",
              "    .colab-df-convert {\n",
              "      background-color: #E8F0FE;\n",
              "      border: none;\n",
              "      border-radius: 50%;\n",
              "      cursor: pointer;\n",
              "      display: none;\n",
              "      fill: #1967D2;\n",
              "      height: 32px;\n",
              "      padding: 0 0 0 0;\n",
              "      width: 32px;\n",
              "    }\n",
              "\n",
              "    .colab-df-convert:hover {\n",
              "      background-color: #E2EBFA;\n",
              "      box-shadow: 0px 1px 2px rgba(60, 64, 67, 0.3), 0px 1px 3px 1px rgba(60, 64, 67, 0.15);\n",
              "      fill: #174EA6;\n",
              "    }\n",
              "\n",
              "    [theme=dark] .colab-df-convert {\n",
              "      background-color: #3B4455;\n",
              "      fill: #D2E3FC;\n",
              "    }\n",
              "\n",
              "    [theme=dark] .colab-df-convert:hover {\n",
              "      background-color: #434B5C;\n",
              "      box-shadow: 0px 1px 3px 1px rgba(0, 0, 0, 0.15);\n",
              "      filter: drop-shadow(0px 1px 2px rgba(0, 0, 0, 0.3));\n",
              "      fill: #FFFFFF;\n",
              "    }\n",
              "  </style>\n",
              "\n",
              "      <script>\n",
              "        const buttonEl =\n",
              "          document.querySelector('#df-832a19a3-f22a-4cc7-8ff0-728603d71d69 button.colab-df-convert');\n",
              "        buttonEl.style.display =\n",
              "          google.colab.kernel.accessAllowed ? 'block' : 'none';\n",
              "\n",
              "        async function convertToInteractive(key) {\n",
              "          const element = document.querySelector('#df-832a19a3-f22a-4cc7-8ff0-728603d71d69');\n",
              "          const dataTable =\n",
              "            await google.colab.kernel.invokeFunction('convertToInteractive',\n",
              "                                                     [key], {});\n",
              "          if (!dataTable) return;\n",
              "\n",
              "          const docLinkHtml = 'Like what you see? Visit the ' +\n",
              "            '<a target=\"_blank\" href=https://colab.research.google.com/notebooks/data_table.ipynb>data table notebook</a>'\n",
              "            + ' to learn more about interactive tables.';\n",
              "          element.innerHTML = '';\n",
              "          dataTable['output_type'] = 'display_data';\n",
              "          await google.colab.output.renderOutput(dataTable, element);\n",
              "          const docLink = document.createElement('div');\n",
              "          docLink.innerHTML = docLinkHtml;\n",
              "          element.appendChild(docLink);\n",
              "        }\n",
              "      </script>\n",
              "    </div>\n",
              "  </div>\n",
              "  "
            ]
          },
          "metadata": {},
          "execution_count": 5
        }
      ]
    },
    {
      "cell_type": "markdown",
      "source": [
        "Header rows being dumped in data. Possibly from unioning multiple versions. Check how many before dropping."
      ],
      "metadata": {
        "id": "b4V2O7xLCBVH"
      }
    },
    {
      "cell_type": "code",
      "source": [
        "len(df[df.timeStamp=='timeStamp'])"
      ],
      "metadata": {
        "colab": {
          "base_uri": "https://localhost:8080/"
        },
        "id": "FIKlXSuNB_QU",
        "outputId": "ee381aaf-6359-46ff-e765-dcbec415e5b3"
      },
      "execution_count": null,
      "outputs": [
        {
          "output_type": "execute_result",
          "data": {
            "text/plain": [
              "32"
            ]
          },
          "metadata": {},
          "execution_count": 6
        }
      ]
    },
    {
      "cell_type": "code",
      "source": [
        "# Create cleansed version excluding corrupt rows\n",
        "df_cln = df[df.timeStamp!='timeStamp']"
      ],
      "metadata": {
        "id": "WyXIwcluCagD"
      },
      "execution_count": null,
      "outputs": []
    },
    {
      "cell_type": "code",
      "source": [
        "# AccData conversion script provided in repo wasn't working so drop from analysis\n",
        "df_cln.drop(columns=['accData'], inplace=True)"
      ],
      "metadata": {
        "id": "-MBYhE6QP3wC",
        "colab": {
          "base_uri": "https://localhost:8080/"
        },
        "outputId": "3d9df998-905d-4d4e-a6db-74947cbf15cb"
      },
      "execution_count": null,
      "outputs": [
        {
          "output_type": "stream",
          "name": "stderr",
          "text": [
            "/usr/local/lib/python3.7/dist-packages/pandas/core/frame.py:4913: SettingWithCopyWarning: \n",
            "A value is trying to be set on a copy of a slice from a DataFrame\n",
            "\n",
            "See the caveats in the documentation: https://pandas.pydata.org/pandas-docs/stable/user_guide/indexing.html#returning-a-view-versus-a-copy\n",
            "  errors=errors,\n"
          ]
        }
      ]
    },
    {
      "cell_type": "markdown",
      "source": [
        "Check column datatypes as likely to be default due to incorrect rows"
      ],
      "metadata": {
        "id": "z7r716ABC6vQ"
      }
    },
    {
      "cell_type": "code",
      "source": [
        "df_cln.dtypes"
      ],
      "metadata": {
        "colab": {
          "base_uri": "https://localhost:8080/"
        },
        "id": "rcLQZ7H6DDO1",
        "outputId": "e18133b5-06b4-4919-ea15-5615e434ec33"
      },
      "execution_count": null,
      "outputs": [
        {
          "output_type": "execute_result",
          "data": {
            "text/plain": [
              "tripID       object\n",
              "deviceID     object\n",
              "timeStamp    object\n",
              "gps_speed    object\n",
              "battery      object\n",
              "cTemp        object\n",
              "dtc          object\n",
              "eLoad        object\n",
              "iat          object\n",
              "imap         object\n",
              "kpl          object\n",
              "maf          object\n",
              "rpm          object\n",
              "speed        object\n",
              "tAdv         object\n",
              "tPos         object\n",
              "dtype: object"
            ]
          },
          "metadata": {},
          "execution_count": 9
        }
      ]
    },
    {
      "cell_type": "code",
      "source": [
        "# Convert dataframe to expected types\n",
        "# Ignore identifying columns\n",
        "ignore_columns = ['deviceID', 'tripID']\n",
        "for i in df_cln.columns:\n",
        "  if i in ignore_columns:\n",
        "    continue\n",
        "  elif i=='timeStamp':\n",
        "    # Convert timestamp string to datetime\n",
        "    df_cln.timeStamp = pd.to_datetime(df_cln.timeStamp)\n",
        "  else:\n",
        "    # Convert other columns to floats\n",
        "    df_cln[i] = df_cln[i].astype(float)"
      ],
      "metadata": {
        "id": "kqLzaOGsjUr2"
      },
      "execution_count": null,
      "outputs": []
    },
    {
      "cell_type": "code",
      "source": [
        "# Check cleansed column types\n",
        "df_cln.dtypes"
      ],
      "metadata": {
        "colab": {
          "base_uri": "https://localhost:8080/"
        },
        "id": "JhCpXBt0fM2A",
        "outputId": "4dae3f6a-0fe2-4bfa-f7f5-cd33c46a3d3f"
      },
      "execution_count": null,
      "outputs": [
        {
          "output_type": "execute_result",
          "data": {
            "text/plain": [
              "tripID               object\n",
              "deviceID             object\n",
              "timeStamp    datetime64[ns]\n",
              "gps_speed           float64\n",
              "battery             float64\n",
              "cTemp               float64\n",
              "dtc                 float64\n",
              "eLoad               float64\n",
              "iat                 float64\n",
              "imap                float64\n",
              "kpl                 float64\n",
              "maf                 float64\n",
              "rpm                 float64\n",
              "speed               float64\n",
              "tAdv                float64\n",
              "tPos                float64\n",
              "dtype: object"
            ]
          },
          "metadata": {},
          "execution_count": 11
        }
      ]
    },
    {
      "cell_type": "code",
      "source": [
        "# Create UID for device and trip combination\n",
        "df_cln['uid'] = (df_cln.tripID.astype(str) + \"-\" + df_cln.deviceID.astype(str))"
      ],
      "metadata": {
        "colab": {
          "base_uri": "https://localhost:8080/"
        },
        "id": "P5Svj9QUdDbb",
        "outputId": "f82a4227-549b-426f-ec5c-1c087ee8fb9c"
      },
      "execution_count": null,
      "outputs": [
        {
          "output_type": "stream",
          "name": "stderr",
          "text": [
            "/usr/local/lib/python3.7/dist-packages/ipykernel_launcher.py:2: SettingWithCopyWarning: \n",
            "A value is trying to be set on a copy of a slice from a DataFrame.\n",
            "Try using .loc[row_indexer,col_indexer] = value instead\n",
            "\n",
            "See the caveats in the documentation: https://pandas.pydata.org/pandas-docs/stable/user_guide/indexing.html#returning-a-view-versus-a-copy\n",
            "  \n"
          ]
        }
      ]
    },
    {
      "cell_type": "markdown",
      "source": [
        "##Exploratory data analysis of feature columns"
      ],
      "metadata": {
        "id": "uQT7v6gCG1_F"
      }
    },
    {
      "cell_type": "code",
      "source": [
        "# Drop identifying columns from analysis\n",
        "df_analysis = df_cln.drop(columns=ignore_columns)"
      ],
      "metadata": {
        "id": "GoAE4YT8lRX0"
      },
      "execution_count": null,
      "outputs": []
    },
    {
      "cell_type": "code",
      "source": [
        "# Use built in seaborn library to do EDA\n",
        "import seaborn as sns\n",
        "corr = df_analysis.corr()\n",
        "\n",
        "# Correlation heatmap identifies highly correlated variables\n",
        "# plot the heatmap\n",
        "sns.heatmap(corr, xticklabels=corr.columns, yticklabels=corr.columns)"
      ],
      "metadata": {
        "colab": {
          "base_uri": "https://localhost:8080/",
          "height": 329
        },
        "id": "ygAd7YiHlMIr",
        "outputId": "5e36f55b-d971-4c69-ecf5-ba4fb36f2643"
      },
      "execution_count": null,
      "outputs": [
        {
          "output_type": "execute_result",
          "data": {
            "text/plain": [
              "<matplotlib.axes._subplots.AxesSubplot at 0x7f90658e9710>"
            ]
          },
          "metadata": {},
          "execution_count": 14
        },
        {
          "output_type": "display_data",
          "data": {
            "text/plain": [
              "<Figure size 432x288 with 2 Axes>"
            ],
            "image/png": "[encoded data removed]"
          },
          "metadata": {
            "needs_background": "light"
          }
        }
      ]
    },
    {
      "cell_type": "markdown",
      "source": [
        "Notable features:\n",
        "* gps_speed and speed highly correlated so can probably drop one\n",
        "* dtc, tAdv and tPos not correlated with any other features\n",
        "* rpm correlated with most features\n"
      ],
      "metadata": {
        "id": "PksJ-8iYEDYl"
      }
    },
    {
      "cell_type": "markdown",
      "source": [
        "Investigate distribution of features"
      ],
      "metadata": {
        "id": "XsKB-kCkEvRW"
      }
    },
    {
      "cell_type": "code",
      "source": [
        "ax = sns.boxplot(data=df_analysis, orient=\"h\", palette=\"Set2\")"
      ],
      "metadata": {
        "colab": {
          "base_uri": "https://localhost:8080/",
          "height": 265
        },
        "id": "JRXTBcn8HgXq",
        "outputId": "891de0ab-2684-42ab-8016-383fd8bbfa92"
      },
      "execution_count": null,
      "outputs": [
        {
          "output_type": "display_data",
          "data": {
            "text/plain": [
              "<Figure size 432x288 with 1 Axes>"
            ],
            "image/png": "[encoded data removed]"
          },
          "metadata": {
            "needs_background": "light"
          }
        }
      ]
    },
    {
      "cell_type": "code",
      "source": [
        "# rpm and kpl greater range than other variables. Replot to inspect others better\n",
        "ax = sns.boxplot(data=df_analysis.drop(columns=['rpm', 'kpl']), orient=\"h\", palette=\"Set2\")"
      ],
      "metadata": {
        "colab": {
          "base_uri": "https://localhost:8080/",
          "height": 265
        },
        "id": "pgktLr7YF1vO",
        "outputId": "98615dff-c694-4019-ea75-210a1b5e668b"
      },
      "execution_count": null,
      "outputs": [
        {
          "output_type": "display_data",
          "data": {
            "text/plain": [
              "<Figure size 432x288 with 1 Axes>"
            ],
            "image/png": "[encoded data removed]"
          },
          "metadata": {
            "needs_background": "light"
          }
        }
      ]
    },
    {
      "cell_type": "markdown",
      "source": [
        "Notable features:\n",
        "* rpm large range with long tail. Not many points below 800\n",
        "* gps_speed and speed although correlated do not have same spread. GPS_speed has large outliers so possible incorrect data"
      ],
      "metadata": {
        "id": "J1QYofOiE4x_"
      }
    },
    {
      "cell_type": "code",
      "source": [
        "# Data all converted to floats so describe gives us statistical analysis\n",
        "df_analysis.describe()"
      ],
      "metadata": {
        "colab": {
          "base_uri": "https://localhost:8080/",
          "height": 364
        },
        "id": "3i3ECjDAHusn",
        "outputId": "ac60bc6a-e43c-4c44-d202-cbf4ac4c3ae1"
      },
      "execution_count": null,
      "outputs": [
        {
          "output_type": "execute_result",
          "data": {
            "text/plain": [
              "          gps_speed       battery         cTemp           dtc         eLoad  \\\n",
              "count  3.120240e+06  3.120240e+06  3.120240e+06  3.120240e+06  3.120240e+06   \n",
              "mean   2.410440e+01  2.403974e+00  6.094606e+01  2.895611e-03  3.093106e+01   \n",
              "std    2.619350e+01  5.220560e+00  3.446449e+01  6.089851e-01  2.770033e+01   \n",
              "min    0.000000e+00  0.000000e+00 -4.000000e+01  0.000000e+00  0.000000e+00   \n",
              "25%    0.000000e+00  0.000000e+00  4.200000e+01  0.000000e+00  0.000000e+00   \n",
              "50%    1.703840e+01  0.000000e+00  8.000000e+01  0.000000e+00  2.705880e+01   \n",
              "75%    3.759560e+01  0.000000e+00  8.900000e+01  0.000000e+00  4.980390e+01   \n",
              "max    5.122262e+02  1.544000e+01  1.000000e+02  1.290000e+02  9.960780e+01   \n",
              "\n",
              "                iat          imap           kpl           maf           rpm  \\\n",
              "count  3.120240e+06  3.120240e+06  3.120240e+06  3.120240e+06  3.120240e+06   \n",
              "mean   2.615207e+01  7.191372e+01  5.484311e+00  7.920082e+00  9.688559e+02   \n",
              "std    1.554953e+01  4.932823e+01  9.137718e+00  8.626813e+00  6.728343e+02   \n",
              "min   -4.000000e+01  0.000000e+00  0.000000e+00  0.000000e+00  0.000000e+00   \n",
              "25%    1.900000e+01  1.000000e+01  0.000000e+00  0.000000e+00  7.020000e+02   \n",
              "50%    3.000000e+01  9.700000e+01  2.755800e+00  7.690000e+00  9.920000e+02   \n",
              "75%    3.700000e+01  1.020000e+02  7.696800e+00  1.214000e+01  1.421000e+03   \n",
              "max    6.900000e+01  2.540000e+02  1.611200e+03  1.780800e+02  5.764000e+03   \n",
              "\n",
              "              speed          tAdv          tPos  \n",
              "count  3.120240e+06  3.120240e+06  3.120240e+06  \n",
              "mean   2.264481e+01  1.875541e+00  1.243773e+01  \n",
              "std    2.530813e+01  7.356457e+00  2.512771e+01  \n",
              "min    0.000000e+00 -2.500000e+01  0.000000e+00  \n",
              "25%    0.000000e+00  0.000000e+00  0.000000e+00  \n",
              "50%    1.600000e+01  0.000000e+00  0.000000e+00  \n",
              "75%    3.600000e+01  0.000000e+00  1.529410e+01  \n",
              "max    1.490000e+02  5.050000e+01  9.960780e+01  "
            ],
            "text/html": [
              "\n",
              "  <div id=\"df-ce293e02-a66b-48ed-9fc5-a6f3b65c2d5c\">\n",
              "    <div class=\"colab-df-container\">\n",
              "      <div>\n",
              "<style scoped>\n",
              "    .dataframe tbody tr th:only-of-type {\n",
              "        vertical-align: middle;\n",
              "    }\n",
              "\n",
              "    .dataframe tbody tr th {\n",
              "        vertical-align: top;\n",
              "    }\n",
              "\n",
              "    .dataframe thead th {\n",
              "        text-align: right;\n",
              "    }\n",
              "</style>\n",
              "<table border=\"1\" class=\"dataframe\">\n",
              "  <thead>\n",
              "    <tr style=\"text-align: right;\">\n",
              "      <th></th>\n",
              "      <th>gps_speed</th>\n",
              "      <th>battery</th>\n",
              "      <th>cTemp</th>\n",
              "      <th>dtc</th>\n",
              "      <th>eLoad</th>\n",
              "      <th>iat</th>\n",
              "      <th>imap</th>\n",
              "      <th>kpl</th>\n",
              "      <th>maf</th>\n",
              "      <th>rpm</th>\n",
              "      <th>speed</th>\n",
              "      <th>tAdv</th>\n",
              "      <th>tPos</th>\n",
              "    </tr>\n",
              "  </thead>\n",
              "  <tbody>\n",
              "    <tr>\n",
              "      <th>count</th>\n",
              "      <td>3.120240e+06</td>\n",
              "      <td>3.120240e+06</td>\n",
              "      <td>3.120240e+06</td>\n",
              "      <td>3.120240e+06</td>\n",
              "      <td>3.120240e+06</td>\n",
              "      <td>3.120240e+06</td>\n",
              "      <td>3.120240e+06</td>\n",
              "      <td>3.120240e+06</td>\n",
              "      <td>3.120240e+06</td>\n",
              "      <td>3.120240e+06</td>\n",
              "      <td>3.120240e+06</td>\n",
              "      <td>3.120240e+06</td>\n",
              "      <td>3.120240e+06</td>\n",
              "    </tr>\n",
              "    <tr>\n",
              "      <th>mean</th>\n",
              "      <td>2.410440e+01</td>\n",
              "      <td>2.403974e+00</td>\n",
              "      <td>6.094606e+01</td>\n",
              "      <td>2.895611e-03</td>\n",
              "      <td>3.093106e+01</td>\n",
              "      <td>2.615207e+01</td>\n",
              "      <td>7.191372e+01</td>\n",
              "      <td>5.484311e+00</td>\n",
              "      <td>7.920082e+00</td>\n",
              "      <td>9.688559e+02</td>\n",
              "      <td>2.264481e+01</td>\n",
              "      <td>1.875541e+00</td>\n",
              "      <td>1.243773e+01</td>\n",
              "    </tr>\n",
              "    <tr>\n",
              "      <th>std</th>\n",
              "      <td>2.619350e+01</td>\n",
              "      <td>5.220560e+00</td>\n",
              "      <td>3.446449e+01</td>\n",
              "      <td>6.089851e-01</td>\n",
              "      <td>2.770033e+01</td>\n",
              "      <td>1.554953e+01</td>\n",
              "      <td>4.932823e+01</td>\n",
              "      <td>9.137718e+00</td>\n",
              "      <td>8.626813e+00</td>\n",
              "      <td>6.728343e+02</td>\n",
              "      <td>2.530813e+01</td>\n",
              "      <td>7.356457e+00</td>\n",
              "      <td>2.512771e+01</td>\n",
              "    </tr>\n",
              "    <tr>\n",
              "      <th>min</th>\n",
              "      <td>0.000000e+00</td>\n",
              "      <td>0.000000e+00</td>\n",
              "      <td>-4.000000e+01</td>\n",
              "      <td>0.000000e+00</td>\n",
              "      <td>0.000000e+00</td>\n",
              "      <td>-4.000000e+01</td>\n",
              "      <td>0.000000e+00</td>\n",
              "      <td>0.000000e+00</td>\n",
              "      <td>0.000000e+00</td>\n",
              "      <td>0.000000e+00</td>\n",
              "      <td>0.000000e+00</td>\n",
              "      <td>-2.500000e+01</td>\n",
              "      <td>0.000000e+00</td>\n",
              "    </tr>\n",
              "    <tr>\n",
              "      <th>25%</th>\n",
              "      <td>0.000000e+00</td>\n",
              "      <td>0.000000e+00</td>\n",
              "      <td>4.200000e+01</td>\n",
              "      <td>0.000000e+00</td>\n",
              "      <td>0.000000e+00</td>\n",
              "      <td>1.900000e+01</td>\n",
              "      <td>1.000000e+01</td>\n",
              "      <td>0.000000e+00</td>\n",
              "      <td>0.000000e+00</td>\n",
              "      <td>7.020000e+02</td>\n",
              "      <td>0.000000e+00</td>\n",
              "      <td>0.000000e+00</td>\n",
              "      <td>0.000000e+00</td>\n",
              "    </tr>\n",
              "    <tr>\n",
              "      <th>50%</th>\n",
              "      <td>1.703840e+01</td>\n",
              "      <td>0.000000e+00</td>\n",
              "      <td>8.000000e+01</td>\n",
              "      <td>0.000000e+00</td>\n",
              "      <td>2.705880e+01</td>\n",
              "      <td>3.000000e+01</td>\n",
              "      <td>9.700000e+01</td>\n",
              "      <td>2.755800e+00</td>\n",
              "      <td>7.690000e+00</td>\n",
              "      <td>9.920000e+02</td>\n",
              "      <td>1.600000e+01</td>\n",
              "      <td>0.000000e+00</td>\n",
              "      <td>0.000000e+00</td>\n",
              "    </tr>\n",
              "    <tr>\n",
              "      <th>75%</th>\n",
              "      <td>3.759560e+01</td>\n",
              "      <td>0.000000e+00</td>\n",
              "      <td>8.900000e+01</td>\n",
              "      <td>0.000000e+00</td>\n",
              "      <td>4.980390e+01</td>\n",
              "      <td>3.700000e+01</td>\n",
              "      <td>1.020000e+02</td>\n",
              "      <td>7.696800e+00</td>\n",
              "      <td>1.214000e+01</td>\n",
              "      <td>1.421000e+03</td>\n",
              "      <td>3.600000e+01</td>\n",
              "      <td>0.000000e+00</td>\n",
              "      <td>1.529410e+01</td>\n",
              "    </tr>\n",
              "    <tr>\n",
              "      <th>max</th>\n",
              "      <td>5.122262e+02</td>\n",
              "      <td>1.544000e+01</td>\n",
              "      <td>1.000000e+02</td>\n",
              "      <td>1.290000e+02</td>\n",
              "      <td>9.960780e+01</td>\n",
              "      <td>6.900000e+01</td>\n",
              "      <td>2.540000e+02</td>\n",
              "      <td>1.611200e+03</td>\n",
              "      <td>1.780800e+02</td>\n",
              "      <td>5.764000e+03</td>\n",
              "      <td>1.490000e+02</td>\n",
              "      <td>5.050000e+01</td>\n",
              "      <td>9.960780e+01</td>\n",
              "    </tr>\n",
              "  </tbody>\n",
              "</table>\n",
              "</div>\n",
              "      <button class=\"colab-df-convert\" onclick=\"convertToInteractive('df-ce293e02-a66b-48ed-9fc5-a6f3b65c2d5c')\"\n",
              "              title=\"Convert this dataframe to an interactive table.\"\n",
              "              style=\"display:none;\">\n",
              "        \n",
              "  <svg xmlns=\"http://www.w3.org/2000/svg\" height=\"24px\"viewBox=\"0 0 24 24\"\n",
              "       width=\"24px\">\n",
              "    <path d=\"M0 0h24v24H0V0z\" fill=\"none\"/>\n",
              "    <path d=\"M18.56 5.44l.94 2.06.94-2.06 2.06-.94-2.06-.94-.94-2.06-.94 2.06-2.06.94zm-11 1L8.5 8.5l.94-2.06 2.06-.94-2.06-.94L8.5 2.5l-.94 2.06-2.06.94zm10 10l.94 2.06.94-2.06 2.06-.94-2.06-.94-.94-2.06-.94 2.06-2.06.94z\"/><path d=\"M17.41 7.96l-1.37-1.37c-.4-.4-.92-.59-1.43-.59-.52 0-1.04.2-1.43.59L10.3 9.45l-7.72 7.72c-.78.78-.78 2.05 0 2.83L4 21.41c.39.39.9.59 1.41.59.51 0 1.02-.2 1.41-.59l7.78-7.78 2.81-2.81c.8-.78.8-2.07 0-2.86zM5.41 20L4 18.59l7.72-7.72 1.47 1.35L5.41 20z\"/>\n",
              "  </svg>\n",
              "      </button>\n",
              "      \n",
              "  <style>\n",
              "    .colab-df-container {\n",
              "      display:flex;\n",
              "      flex-wrap:wrap;\n",
              "      gap: 12px;\n",
              "    }\n",
              "\n",
              "    .colab-df-convert {\n",
              "      background-color: #E8F0FE;\n",
              "      border: none;\n",
              "      border-radius: 50%;\n",
              "      cursor: pointer;\n",
              "      display: none;\n",
              "      fill: #1967D2;\n",
              "      height: 32px;\n",
              "      padding: 0 0 0 0;\n",
              "      width: 32px;\n",
              "    }\n",
              "\n",
              "    .colab-df-convert:hover {\n",
              "      background-color: #E2EBFA;\n",
              "      box-shadow: 0px 1px 2px rgba(60, 64, 67, 0.3), 0px 1px 3px 1px rgba(60, 64, 67, 0.15);\n",
              "      fill: #174EA6;\n",
              "    }\n",
              "\n",
              "    [theme=dark] .colab-df-convert {\n",
              "      background-color: #3B4455;\n",
              "      fill: #D2E3FC;\n",
              "    }\n",
              "\n",
              "    [theme=dark] .colab-df-convert:hover {\n",
              "      background-color: #434B5C;\n",
              "      box-shadow: 0px 1px 3px 1px rgba(0, 0, 0, 0.15);\n",
              "      filter: drop-shadow(0px 1px 2px rgba(0, 0, 0, 0.3));\n",
              "      fill: #FFFFFF;\n",
              "    }\n",
              "  </style>\n",
              "\n",
              "      <script>\n",
              "        const buttonEl =\n",
              "          document.querySelector('#df-ce293e02-a66b-48ed-9fc5-a6f3b65c2d5c button.colab-df-convert');\n",
              "        buttonEl.style.display =\n",
              "          google.colab.kernel.accessAllowed ? 'block' : 'none';\n",
              "\n",
              "        async function convertToInteractive(key) {\n",
              "          const element = document.querySelector('#df-ce293e02-a66b-48ed-9fc5-a6f3b65c2d5c');\n",
              "          const dataTable =\n",
              "            await google.colab.kernel.invokeFunction('convertToInteractive',\n",
              "                                                     [key], {});\n",
              "          if (!dataTable) return;\n",
              "\n",
              "          const docLinkHtml = 'Like what you see? Visit the ' +\n",
              "            '<a target=\"_blank\" href=https://colab.research.google.com/notebooks/data_table.ipynb>data table notebook</a>'\n",
              "            + ' to learn more about interactive tables.';\n",
              "          element.innerHTML = '';\n",
              "          dataTable['output_type'] = 'display_data';\n",
              "          await google.colab.output.renderOutput(dataTable, element);\n",
              "          const docLink = document.createElement('div');\n",
              "          docLink.innerHTML = docLinkHtml;\n",
              "          element.appendChild(docLink);\n",
              "        }\n",
              "      </script>\n",
              "    </div>\n",
              "  </div>\n",
              "  "
            ]
          },
          "metadata": {},
          "execution_count": 17
        }
      ]
    },
    {
      "cell_type": "code",
      "source": [
        "# Identify categorical columns with low number of unique values\n",
        "df_analysis.nunique()"
      ],
      "metadata": {
        "colab": {
          "base_uri": "https://localhost:8080/"
        },
        "id": "twUgzMJAH2nr",
        "outputId": "344b0e5a-a9fc-45a1-b8fb-04df51ed1132"
      },
      "execution_count": null,
      "outputs": [
        {
          "output_type": "execute_result",
          "data": {
            "text/plain": [
              "timeStamp    1740022\n",
              "gps_speed      12090\n",
              "battery          722\n",
              "cTemp             96\n",
              "dtc                3\n",
              "eLoad            259\n",
              "iat               66\n",
              "imap             253\n",
              "kpl           104880\n",
              "maf             7041\n",
              "rpm            12427\n",
              "speed            150\n",
              "tAdv             152\n",
              "tPos             259\n",
              "uid             1891\n",
              "dtype: int64"
            ]
          },
          "metadata": {},
          "execution_count": 18
        }
      ]
    },
    {
      "cell_type": "markdown",
      "source": [
        "dtc looks like a category"
      ],
      "metadata": {
        "id": "YuaGJwXJG_9B"
      }
    },
    {
      "cell_type": "code",
      "source": [
        "# See pairwise plot of highly correlated features\n",
        "sns.pairplot(df_analysis[['rpm', 'speed', 'cTemp']], diag_kind = \"kde\")"
      ],
      "metadata": {
        "colab": {
          "base_uri": "https://localhost:8080/",
          "height": 567
        },
        "id": "CvGTqCIPgYHA",
        "outputId": "646846e9-96a9-402a-d79b-a15945974cf5"
      },
      "execution_count": null,
      "outputs": [
        {
          "output_type": "execute_result",
          "data": {
            "text/plain": [
              "<seaborn.axisgrid.PairGrid at 0x7f90647d9f50>"
            ]
          },
          "metadata": {},
          "execution_count": 19
        },
        {
          "output_type": "display_data",
          "data": {
            "text/plain": [
              "<Figure size 540x540 with 12 Axes>"
            ],
            "image/png": "[encoded data removed]"
          },
          "metadata": {
            "needs_background": "light"
          }
        }
      ]
    },
    {
      "cell_type": "markdown",
      "source": [
        "Notable features:\n",
        "* most rpm values occur around 0. Data dictionary said that journeys were when an engine was switched on to off. Maybe engine auto on/off during operation\n",
        "* cTemp ramps up to stable range but dip between approx. 75 and 80. Indicates two main operating modes\n",
        "* speed and rpm looks to have distinct bands but distribution of rpm indicates rpm can occur at most speeds."
      ],
      "metadata": {
        "id": "rkLuhv-WI5MF"
      }
    },
    {
      "cell_type": "markdown",
      "source": [
        "Have a look at some rpm plots"
      ],
      "metadata": {
        "id": "YZ4zS0AliBMl"
      }
    },
    {
      "cell_type": "code",
      "source": [
        "import matplotlib.pyplot as plt\n",
        "\n",
        "rpm_plots = df_cln[df_cln.tripID==1][['timeStamp', 'rpm']]\n",
        "\n",
        "plt.scatter(rpm_plots.timeStamp, rpm_plots.rpm)"
      ],
      "metadata": {
        "colab": {
          "base_uri": "https://localhost:8080/",
          "height": 282
        },
        "id": "0_1JRRy8htNs",
        "outputId": "681e1a1b-4ae9-419f-bc2e-372ec513652b"
      },
      "execution_count": null,
      "outputs": [
        {
          "output_type": "execute_result",
          "data": {
            "text/plain": [
              "<matplotlib.collections.PathCollection at 0x7f9064a09b90>"
            ]
          },
          "metadata": {},
          "execution_count": 20
        },
        {
          "output_type": "display_data",
          "data": {
            "text/plain": [
              "<Figure size 432x288 with 1 Axes>"
            ],
            "image/png": "[encoded data removed]"
          },
          "metadata": {
            "needs_background": "light"
          }
        }
      ]
    },
    {
      "cell_type": "markdown",
      "source": [
        "3 periods of activity. TripID is meant to be engine on to off. Long periods of inactivity contained within trip"
      ],
      "metadata": {
        "id": "_26ytRVWi0kr"
      }
    },
    {
      "cell_type": "code",
      "source": [
        "fig, (ax1, ax2, ax3) = plt.subplots(3, 1)\n",
        "colours = ['black', 'green', 'yellow', 'blue', 'red']\n",
        "\n",
        "def plotter(i):\n",
        "  rpm_plots = df_cln[df_cln.tripID==i][['timeStamp', 'rpm']][0:512]\n",
        "  rpm_plots['time_delta'] = rpm_plots.timeStamp.diff()\n",
        "  rpm_plots['time_delta'] = rpm_plots['time_delta'].dt.seconds.cumsum()\n",
        "  rpm_plots['time_delta'] = rpm_plots['time_delta'].fillna(0)\n",
        "  return rpm_plots\n",
        "\n",
        "plot_1 = plotter(1)\n",
        "plot_2 = plotter(2)\n",
        "plot_3 = plotter(3)\n",
        "\n",
        "ax1.scatter(plot_1.time_delta, plot_1.rpm, color=str(colours[0]))\n",
        "ax2.scatter(plot_2.time_delta, plot_2.rpm, color=str(colours[1]))\n",
        "ax3.scatter(plot_3.time_delta, plot_3.rpm, color=str(colours[2]))\n",
        "  \n",
        "plt.show()\n"
      ],
      "metadata": {
        "colab": {
          "base_uri": "https://localhost:8080/",
          "height": 265
        },
        "id": "p5IOF9Uci9Nk",
        "outputId": "e2ba5cac-bde2-4a24-cf4c-f0fd583cf538"
      },
      "execution_count": null,
      "outputs": [
        {
          "output_type": "display_data",
          "data": {
            "text/plain": [
              "<Figure size 432x288 with 3 Axes>"
            ],
            "image/png": "[encoded data removed]"
          },
          "metadata": {
            "needs_background": "light"
          }
        }
      ]
    },
    {
      "cell_type": "markdown",
      "source": [
        "2 of the 3 rpm traces show continuous activity over first 8.5 mins. If using data then this will likely need to be checked that activity is continuous. Data collected at 1Hz so a simple sum check will suffice to ensure we get continuous data relating to the same activity."
      ],
      "metadata": {
        "id": "0ecvc35In0i1"
      }
    },
    {
      "cell_type": "markdown",
      "source": [
        "Assumption is engine suffers more during warm up phase. Check to see how long engine temp takes to stabilise"
      ],
      "metadata": {
        "id": "49h8i0h27b4p"
      }
    },
    {
      "cell_type": "code",
      "source": [
        "fig, (ax1, ax2, ax3) = plt.subplots(3, 1)\n",
        "colours = ['black', 'green', 'yellow', 'blue', 'red']\n",
        "\n",
        "def plotter(i):\n",
        "  temp_plots = df_cln[df_cln.tripID==i][['timeStamp', 'cTemp']][0:512]\n",
        "  temp_plots['time_delta'] = temp_plots.timeStamp.diff()\n",
        "  temp_plots['time_delta'] = temp_plots['time_delta'].dt.seconds.cumsum()\n",
        "  temp_plots['time_delta'] = temp_plots['time_delta'].fillna(0)\n",
        "  return temp_plots\n",
        "\n",
        "plot_1 = plotter(1)\n",
        "plot_2 = plotter(2)\n",
        "plot_3 = plotter(4)\n",
        "\n",
        "ax1.scatter(plot_1.time_delta, plot_1.cTemp, color=str(colours[0]))\n",
        "ax2.scatter(plot_2.time_delta, plot_2.cTemp, color=str(colours[1]))\n",
        "ax3.scatter(plot_3.time_delta, plot_3.cTemp, color=str(colours[2]))\n",
        "  \n",
        "plt.show()\n"
      ],
      "metadata": {
        "colab": {
          "base_uri": "https://localhost:8080/",
          "height": 265
        },
        "id": "6paIpAOL7Z7Z",
        "outputId": "cdc03131-f840-4b5d-9c93-95b56486c141"
      },
      "execution_count": null,
      "outputs": [
        {
          "output_type": "display_data",
          "data": {
            "text/plain": [
              "<Figure size 432x288 with 3 Axes>"
            ],
            "image/png": "[encoded data removed]"
          },
          "metadata": {
            "needs_background": "light"
          }
        }
      ]
    },
    {
      "cell_type": "markdown",
      "source": [
        "##Train a CNN autocoder to identify anomalous driving styles"
      ],
      "metadata": {
        "id": "ZO2X3PI9Iw0p"
      }
    },
    {
      "cell_type": "markdown",
      "source": [
        "Using rpm as a proxy for driving style. Use a CNN (1D) autoencoder to learn features in an unsupervised manner. Clustering will be done using the bottleneck layer from the autoencoder, visualised using UMAP and clustered using DBSCAN. "
      ],
      "metadata": {
        "id": "ap1ikKpcJrv5"
      }
    },
    {
      "cell_type": "markdown",
      "source": [
        "###Feature engineering"
      ],
      "metadata": {
        "id": "_A9b91F5edOn"
      }
    },
    {
      "cell_type": "code",
      "source": [
        "import tensorflow as tf\n",
        "from tensorflow.keras.models import Model\n",
        "from tensorflow.keras.layers import Input, Conv1D, MaxPooling1D, UpSampling1D, AveragePooling1D"
      ],
      "metadata": {
        "id": "IfFuXyGQCm2y"
      },
      "execution_count": null,
      "outputs": []
    },
    {
      "cell_type": "code",
      "source": [
        "df_cln.sort_values(['uid', 'timeStamp'], inplace=True)"
      ],
      "metadata": {
        "colab": {
          "base_uri": "https://localhost:8080/"
        },
        "id": "5RUZ3N6piy35",
        "outputId": "3dbd51f8-78fa-49dc-c374-35520a8a8063"
      },
      "execution_count": null,
      "outputs": [
        {
          "output_type": "stream",
          "name": "stderr",
          "text": [
            "/usr/local/lib/python3.7/dist-packages/pandas/util/_decorators.py:311: SettingWithCopyWarning: \n",
            "A value is trying to be set on a copy of a slice from a DataFrame\n",
            "\n",
            "See the caveats in the documentation: https://pandas.pydata.org/pandas-docs/stable/user_guide/indexing.html#returning-a-view-versus-a-copy\n",
            "  return func(*args, **kwargs)\n"
          ]
        }
      ]
    },
    {
      "cell_type": "markdown",
      "source": [
        "Need to scale rpm values. Use StandardScaleras as data has outliers that are much greater in value than majority."
      ],
      "metadata": {
        "id": "FDaqJ7zlQEYq"
      }
    },
    {
      "cell_type": "code",
      "source": [
        "import numpy as np\n",
        "# Group data into trips and take first 2 mins of driving to classify\n",
        "# Create a new dataframe containing first two mins of a trip to pass through for normalising\n",
        "trips = []\n",
        "skipped_trips = []\n",
        "for index, i in enumerate(list(set(df_cln.uid))):\n",
        "  tmp = df_cln[df_cln.uid==i][0:128]\n",
        "  tmp['time_delta'] = tmp.timeStamp.diff()\n",
        "  tmp['time_delta'] = tmp['time_delta'].dt.seconds.cumsum()\n",
        "  tmp['time_delta'] = tmp['time_delta'].fillna(0)\n",
        "  if max(tmp.time_delta)>128:\n",
        "    skipped_trips.append(i)\n",
        "    if index==0:\n",
        "      union = tmp\n",
        "    continue\n",
        "  else:\n",
        "    trips.append(list(np.asarray(tmp.rpm).flatten()))\n",
        "  if index==0:\n",
        "    union = tmp\n",
        "  else:\n",
        "    union = pd.concat([tmp, union], ignore_index=True)\n",
        "\n",
        "union.head()  "
      ],
      "metadata": {
        "colab": {
          "base_uri": "https://localhost:8080/",
          "height": 206
        },
        "id": "lCRLDy2bUAro",
        "outputId": "93fb4dd1-6971-4469-a881-7e6b87a3a739"
      },
      "execution_count": null,
      "outputs": [
        {
          "output_type": "execute_result",
          "data": {
            "text/plain": [
              "  tripID deviceID           timeStamp  gps_speed  battery  cTemp  dtc  \\\n",
              "0      6      3.0 2018-01-10 20:34:10     0.0000      0.0   42.0  0.0   \n",
              "1      6      3.0 2018-01-10 20:34:11     0.0000      0.0   42.0  0.0   \n",
              "2      6      3.0 2018-01-10 20:34:12     0.0000      0.0   42.0  0.0   \n",
              "3      6      3.0 2018-01-10 20:34:13     0.0000      0.0   42.0  0.0   \n",
              "4      6      3.0 2018-01-10 20:34:14     3.3336      0.0   42.0  0.0   \n",
              "\n",
              "     eLoad   iat  imap     kpl   maf    rpm  speed  tAdv  tPos    uid  \\\n",
              "0  31.7647  31.0  98.0  0.0000  6.99  751.0    0.0   0.0   0.0  6-3.0   \n",
              "1  30.9804  31.0  98.0  0.0000  6.94  751.0    0.0   0.0   0.0  6-3.0   \n",
              "2  47.4510  31.0  98.0  0.0000  6.74  723.0    0.0   0.0   0.0  6-3.0   \n",
              "3  44.3137  31.0  98.0  0.4184  7.22  742.0    1.0   0.0   0.0  6-3.0   \n",
              "4  37.6471  31.0  98.0  0.4093  7.38  766.0    1.0   0.0   0.0  6-3.0   \n",
              "\n",
              "   time_delta  \n",
              "0         0.0  \n",
              "1         1.0  \n",
              "2         2.0  \n",
              "3         3.0  \n",
              "4         4.0  "
            ],
            "text/html": [
              "\n",
              "  <div id=\"df-aa481b53-532b-45b0-856d-6658dcb2fae3\">\n",
              "    <div class=\"colab-df-container\">\n",
              "      <div>\n",
              "<style scoped>\n",
              "    .dataframe tbody tr th:only-of-type {\n",
              "        vertical-align: middle;\n",
              "    }\n",
              "\n",
              "    .dataframe tbody tr th {\n",
              "        vertical-align: top;\n",
              "    }\n",
              "\n",
              "    .dataframe thead th {\n",
              "        text-align: right;\n",
              "    }\n",
              "</style>\n",
              "<table border=\"1\" class=\"dataframe\">\n",
              "  <thead>\n",
              "    <tr style=\"text-align: right;\">\n",
              "      <th></th>\n",
              "      <th>tripID</th>\n",
              "      <th>deviceID</th>\n",
              "      <th>timeStamp</th>\n",
              "      <th>gps_speed</th>\n",
              "      <th>battery</th>\n",
              "      <th>cTemp</th>\n",
              "      <th>dtc</th>\n",
              "      <th>eLoad</th>\n",
              "      <th>iat</th>\n",
              "      <th>imap</th>\n",
              "      <th>kpl</th>\n",
              "      <th>maf</th>\n",
              "      <th>rpm</th>\n",
              "      <th>speed</th>\n",
              "      <th>tAdv</th>\n",
              "      <th>tPos</th>\n",
              "      <th>uid</th>\n",
              "      <th>time_delta</th>\n",
              "    </tr>\n",
              "  </thead>\n",
              "  <tbody>\n",
              "    <tr>\n",
              "      <th>0</th>\n",
              "      <td>6</td>\n",
              "      <td>3.0</td>\n",
              "      <td>2018-01-10 20:34:10</td>\n",
              "      <td>0.0000</td>\n",
              "      <td>0.0</td>\n",
              "      <td>42.0</td>\n",
              "      <td>0.0</td>\n",
              "      <td>31.7647</td>\n",
              "      <td>31.0</td>\n",
              "      <td>98.0</td>\n",
              "      <td>0.0000</td>\n",
              "      <td>6.99</td>\n",
              "      <td>751.0</td>\n",
              "      <td>0.0</td>\n",
              "      <td>0.0</td>\n",
              "      <td>0.0</td>\n",
              "      <td>6-3.0</td>\n",
              "      <td>0.0</td>\n",
              "    </tr>\n",
              "    <tr>\n",
              "      <th>1</th>\n",
              "      <td>6</td>\n",
              "      <td>3.0</td>\n",
              "      <td>2018-01-10 20:34:11</td>\n",
              "      <td>0.0000</td>\n",
              "      <td>0.0</td>\n",
              "      <td>42.0</td>\n",
              "      <td>0.0</td>\n",
              "      <td>30.9804</td>\n",
              "      <td>31.0</td>\n",
              "      <td>98.0</td>\n",
              "      <td>0.0000</td>\n",
              "      <td>6.94</td>\n",
              "      <td>751.0</td>\n",
              "      <td>0.0</td>\n",
              "      <td>0.0</td>\n",
              "      <td>0.0</td>\n",
              "      <td>6-3.0</td>\n",
              "      <td>1.0</td>\n",
              "    </tr>\n",
              "    <tr>\n",
              "      <th>2</th>\n",
              "      <td>6</td>\n",
              "      <td>3.0</td>\n",
              "      <td>2018-01-10 20:34:12</td>\n",
              "      <td>0.0000</td>\n",
              "      <td>0.0</td>\n",
              "      <td>42.0</td>\n",
              "      <td>0.0</td>\n",
              "      <td>47.4510</td>\n",
              "      <td>31.0</td>\n",
              "      <td>98.0</td>\n",
              "      <td>0.0000</td>\n",
              "      <td>6.74</td>\n",
              "      <td>723.0</td>\n",
              "      <td>0.0</td>\n",
              "      <td>0.0</td>\n",
              "      <td>0.0</td>\n",
              "      <td>6-3.0</td>\n",
              "      <td>2.0</td>\n",
              "    </tr>\n",
              "    <tr>\n",
              "      <th>3</th>\n",
              "      <td>6</td>\n",
              "      <td>3.0</td>\n",
              "      <td>2018-01-10 20:34:13</td>\n",
              "      <td>0.0000</td>\n",
              "      <td>0.0</td>\n",
              "      <td>42.0</td>\n",
              "      <td>0.0</td>\n",
              "      <td>44.3137</td>\n",
              "      <td>31.0</td>\n",
              "      <td>98.0</td>\n",
              "      <td>0.4184</td>\n",
              "      <td>7.22</td>\n",
              "      <td>742.0</td>\n",
              "      <td>1.0</td>\n",
              "      <td>0.0</td>\n",
              "      <td>0.0</td>\n",
              "      <td>6-3.0</td>\n",
              "      <td>3.0</td>\n",
              "    </tr>\n",
              "    <tr>\n",
              "      <th>4</th>\n",
              "      <td>6</td>\n",
              "      <td>3.0</td>\n",
              "      <td>2018-01-10 20:34:14</td>\n",
              "      <td>3.3336</td>\n",
              "      <td>0.0</td>\n",
              "      <td>42.0</td>\n",
              "      <td>0.0</td>\n",
              "      <td>37.6471</td>\n",
              "      <td>31.0</td>\n",
              "      <td>98.0</td>\n",
              "      <td>0.4093</td>\n",
              "      <td>7.38</td>\n",
              "      <td>766.0</td>\n",
              "      <td>1.0</td>\n",
              "      <td>0.0</td>\n",
              "      <td>0.0</td>\n",
              "      <td>6-3.0</td>\n",
              "      <td>4.0</td>\n",
              "    </tr>\n",
              "  </tbody>\n",
              "</table>\n",
              "</div>\n",
              "      <button class=\"colab-df-convert\" onclick=\"convertToInteractive('df-aa481b53-532b-45b0-856d-6658dcb2fae3')\"\n",
              "              title=\"Convert this dataframe to an interactive table.\"\n",
              "              style=\"display:none;\">\n",
              "        \n",
              "  <svg xmlns=\"http://www.w3.org/2000/svg\" height=\"24px\"viewBox=\"0 0 24 24\"\n",
              "       width=\"24px\">\n",
              "    <path d=\"M0 0h24v24H0V0z\" fill=\"none\"/>\n",
              "    <path d=\"M18.56 5.44l.94 2.06.94-2.06 2.06-.94-2.06-.94-.94-2.06-.94 2.06-2.06.94zm-11 1L8.5 8.5l.94-2.06 2.06-.94-2.06-.94L8.5 2.5l-.94 2.06-2.06.94zm10 10l.94 2.06.94-2.06 2.06-.94-2.06-.94-.94-2.06-.94 2.06-2.06.94z\"/><path d=\"M17.41 7.96l-1.37-1.37c-.4-.4-.92-.59-1.43-.59-.52 0-1.04.2-1.43.59L10.3 9.45l-7.72 7.72c-.78.78-.78 2.05 0 2.83L4 21.41c.39.39.9.59 1.41.59.51 0 1.02-.2 1.41-.59l7.78-7.78 2.81-2.81c.8-.78.8-2.07 0-2.86zM5.41 20L4 18.59l7.72-7.72 1.47 1.35L5.41 20z\"/>\n",
              "  </svg>\n",
              "      </button>\n",
              "      \n",
              "  <style>\n",
              "    .colab-df-container {\n",
              "      display:flex;\n",
              "      flex-wrap:wrap;\n",
              "      gap: 12px;\n",
              "    }\n",
              "\n",
              "    .colab-df-convert {\n",
              "      background-color: #E8F0FE;\n",
              "      border: none;\n",
              "      border-radius: 50%;\n",
              "      cursor: pointer;\n",
              "      display: none;\n",
              "      fill: #1967D2;\n",
              "      height: 32px;\n",
              "      padding: 0 0 0 0;\n",
              "      width: 32px;\n",
              "    }\n",
              "\n",
              "    .colab-df-convert:hover {\n",
              "      background-color: #E2EBFA;\n",
              "      box-shadow: 0px 1px 2px rgba(60, 64, 67, 0.3), 0px 1px 3px 1px rgba(60, 64, 67, 0.15);\n",
              "      fill: #174EA6;\n",
              "    }\n",
              "\n",
              "    [theme=dark] .colab-df-convert {\n",
              "      background-color: #3B4455;\n",
              "      fill: #D2E3FC;\n",
              "    }\n",
              "\n",
              "    [theme=dark] .colab-df-convert:hover {\n",
              "      background-color: #434B5C;\n",
              "      box-shadow: 0px 1px 3px 1px rgba(0, 0, 0, 0.15);\n",
              "      filter: drop-shadow(0px 1px 2px rgba(0, 0, 0, 0.3));\n",
              "      fill: #FFFFFF;\n",
              "    }\n",
              "  </style>\n",
              "\n",
              "      <script>\n",
              "        const buttonEl =\n",
              "          document.querySelector('#df-aa481b53-532b-45b0-856d-6658dcb2fae3 button.colab-df-convert');\n",
              "        buttonEl.style.display =\n",
              "          google.colab.kernel.accessAllowed ? 'block' : 'none';\n",
              "\n",
              "        async function convertToInteractive(key) {\n",
              "          const element = document.querySelector('#df-aa481b53-532b-45b0-856d-6658dcb2fae3');\n",
              "          const dataTable =\n",
              "            await google.colab.kernel.invokeFunction('convertToInteractive',\n",
              "                                                     [key], {});\n",
              "          if (!dataTable) return;\n",
              "\n",
              "          const docLinkHtml = 'Like what you see? Visit the ' +\n",
              "            '<a target=\"_blank\" href=https://colab.research.google.com/notebooks/data_table.ipynb>data table notebook</a>'\n",
              "            + ' to learn more about interactive tables.';\n",
              "          element.innerHTML = '';\n",
              "          dataTable['output_type'] = 'display_data';\n",
              "          await google.colab.output.renderOutput(dataTable, element);\n",
              "          const docLink = document.createElement('div');\n",
              "          docLink.innerHTML = docLinkHtml;\n",
              "          element.appendChild(docLink);\n",
              "        }\n",
              "      </script>\n",
              "    </div>\n",
              "  </div>\n",
              "  "
            ]
          },
          "metadata": {},
          "execution_count": 64
        }
      ]
    },
    {
      "cell_type": "markdown",
      "source": [
        "Of the 1891 trips:\n",
        "* 34 had less than 2mins of continuous driving at the start\n",
        "* 176 had less than 4.5mins of continuous driving at the start\n",
        "* 494 had less than 8.5mins of continuous driving at the start\n"
      ],
      "metadata": {
        "id": "jsqvSnwIvkC_"
      }
    },
    {
      "cell_type": "code",
      "source": [
        "union.sort_values(by=['uid', 'timeStamp'], inplace=True)\n",
        "\n",
        "# Split data into training, test and validation sets via uid\n",
        "trips = list(set(union.uid))\n",
        "\n",
        "# Use row count to index values before split\n",
        "union.reset_index(inplace=True)\n",
        "no_trips = len(trips)\n",
        "train =  trips[0:int(len(trips)*0.8)]\n",
        "test = trips[int(len(trips)*0.8):]\n",
        "\n",
        "# Create train/test split\n",
        "x_train = union[union.uid.isin(train)]\n",
        "x_test = union[union.uid.isin(test)]\n",
        "\n",
        "x_test.reset_index(inplace=True)"
      ],
      "metadata": {
        "id": "LU7uM_jJOPb1"
      },
      "execution_count": null,
      "outputs": []
    },
    {
      "cell_type": "markdown",
      "source": [
        "Scale rpm data using Standard scaler. Could use MinMax but large outliers will influence the scaling. Also may run into issues with unbounded upper limit but this could be tested in future"
      ],
      "metadata": {
        "id": "R9ZlR_Js4AEO"
      }
    },
    {
      "cell_type": "code",
      "source": [
        "# Min max scale data\n",
        "from sklearn.preprocessing import StandardScaler\n",
        "import numpy as np\n",
        "scaler = StandardScaler()\n",
        "\n",
        "scaler = scaler.fit(x_train[['rpm']])\n",
        "df_scaled = pd.DataFrame(scaler.transform(x_train[['rpm']]))"
      ],
      "metadata": {
        "id": "cQ_4VkxqDVpk"
      },
      "execution_count": null,
      "outputs": []
    },
    {
      "cell_type": "code",
      "source": [
        "# recombine scaled data with original data\n",
        "\n",
        "df_transformed = df_scaled.join(x_train[['timeStamp', 'uid']])\n",
        "\n",
        "# Sort data by tripID and then timestamp\n",
        "df_transformed.sort_values(by=['uid', 'timeStamp'], inplace=True)\n",
        "df_transformed.head()"
      ],
      "metadata": {
        "id": "uHXWDqpoMRVR",
        "colab": {
          "base_uri": "https://localhost:8080/",
          "height": 206
        },
        "outputId": "4ee50f48-9b0d-4051-aca1-25510878a100"
      },
      "execution_count": null,
      "outputs": [
        {
          "output_type": "execute_result",
          "data": {
            "text/plain": [
              "          0           timeStamp    uid\n",
              "0  0.239292 2017-12-22 18:43:05  1-0.0\n",
              "1  0.239292 2017-12-22 18:43:05  1-0.0\n",
              "2 -0.101941 2017-12-22 18:43:06  1-0.0\n",
              "3 -0.101941 2017-12-22 18:43:06  1-0.0\n",
              "4 -0.020237 2017-12-22 18:43:07  1-0.0"
            ],
            "text/html": [
              "\n",
              "  <div id=\"df-92afaaa2-ac88-40fe-9049-df3f4fc9d9ef\">\n",
              "    <div class=\"colab-df-container\">\n",
              "      <div>\n",
              "<style scoped>\n",
              "    .dataframe tbody tr th:only-of-type {\n",
              "        vertical-align: middle;\n",
              "    }\n",
              "\n",
              "    .dataframe tbody tr th {\n",
              "        vertical-align: top;\n",
              "    }\n",
              "\n",
              "    .dataframe thead th {\n",
              "        text-align: right;\n",
              "    }\n",
              "</style>\n",
              "<table border=\"1\" class=\"dataframe\">\n",
              "  <thead>\n",
              "    <tr style=\"text-align: right;\">\n",
              "      <th></th>\n",
              "      <th>0</th>\n",
              "      <th>timeStamp</th>\n",
              "      <th>uid</th>\n",
              "    </tr>\n",
              "  </thead>\n",
              "  <tbody>\n",
              "    <tr>\n",
              "      <th>0</th>\n",
              "      <td>0.239292</td>\n",
              "      <td>2017-12-22 18:43:05</td>\n",
              "      <td>1-0.0</td>\n",
              "    </tr>\n",
              "    <tr>\n",
              "      <th>1</th>\n",
              "      <td>0.239292</td>\n",
              "      <td>2017-12-22 18:43:05</td>\n",
              "      <td>1-0.0</td>\n",
              "    </tr>\n",
              "    <tr>\n",
              "      <th>2</th>\n",
              "      <td>-0.101941</td>\n",
              "      <td>2017-12-22 18:43:06</td>\n",
              "      <td>1-0.0</td>\n",
              "    </tr>\n",
              "    <tr>\n",
              "      <th>3</th>\n",
              "      <td>-0.101941</td>\n",
              "      <td>2017-12-22 18:43:06</td>\n",
              "      <td>1-0.0</td>\n",
              "    </tr>\n",
              "    <tr>\n",
              "      <th>4</th>\n",
              "      <td>-0.020237</td>\n",
              "      <td>2017-12-22 18:43:07</td>\n",
              "      <td>1-0.0</td>\n",
              "    </tr>\n",
              "  </tbody>\n",
              "</table>\n",
              "</div>\n",
              "      <button class=\"colab-df-convert\" onclick=\"convertToInteractive('df-92afaaa2-ac88-40fe-9049-df3f4fc9d9ef')\"\n",
              "              title=\"Convert this dataframe to an interactive table.\"\n",
              "              style=\"display:none;\">\n",
              "        \n",
              "  <svg xmlns=\"http://www.w3.org/2000/svg\" height=\"24px\"viewBox=\"0 0 24 24\"\n",
              "       width=\"24px\">\n",
              "    <path d=\"M0 0h24v24H0V0z\" fill=\"none\"/>\n",
              "    <path d=\"M18.56 5.44l.94 2.06.94-2.06 2.06-.94-2.06-.94-.94-2.06-.94 2.06-2.06.94zm-11 1L8.5 8.5l.94-2.06 2.06-.94-2.06-.94L8.5 2.5l-.94 2.06-2.06.94zm10 10l.94 2.06.94-2.06 2.06-.94-2.06-.94-.94-2.06-.94 2.06-2.06.94z\"/><path d=\"M17.41 7.96l-1.37-1.37c-.4-.4-.92-.59-1.43-.59-.52 0-1.04.2-1.43.59L10.3 9.45l-7.72 7.72c-.78.78-.78 2.05 0 2.83L4 21.41c.39.39.9.59 1.41.59.51 0 1.02-.2 1.41-.59l7.78-7.78 2.81-2.81c.8-.78.8-2.07 0-2.86zM5.41 20L4 18.59l7.72-7.72 1.47 1.35L5.41 20z\"/>\n",
              "  </svg>\n",
              "      </button>\n",
              "      \n",
              "  <style>\n",
              "    .colab-df-container {\n",
              "      display:flex;\n",
              "      flex-wrap:wrap;\n",
              "      gap: 12px;\n",
              "    }\n",
              "\n",
              "    .colab-df-convert {\n",
              "      background-color: #E8F0FE;\n",
              "      border: none;\n",
              "      border-radius: 50%;\n",
              "      cursor: pointer;\n",
              "      display: none;\n",
              "      fill: #1967D2;\n",
              "      height: 32px;\n",
              "      padding: 0 0 0 0;\n",
              "      width: 32px;\n",
              "    }\n",
              "\n",
              "    .colab-df-convert:hover {\n",
              "      background-color: #E2EBFA;\n",
              "      box-shadow: 0px 1px 2px rgba(60, 64, 67, 0.3), 0px 1px 3px 1px rgba(60, 64, 67, 0.15);\n",
              "      fill: #174EA6;\n",
              "    }\n",
              "\n",
              "    [theme=dark] .colab-df-convert {\n",
              "      background-color: #3B4455;\n",
              "      fill: #D2E3FC;\n",
              "    }\n",
              "\n",
              "    [theme=dark] .colab-df-convert:hover {\n",
              "      background-color: #434B5C;\n",
              "      box-shadow: 0px 1px 3px 1px rgba(0, 0, 0, 0.15);\n",
              "      filter: drop-shadow(0px 1px 2px rgba(0, 0, 0, 0.3));\n",
              "      fill: #FFFFFF;\n",
              "    }\n",
              "  </style>\n",
              "\n",
              "      <script>\n",
              "        const buttonEl =\n",
              "          document.querySelector('#df-92afaaa2-ac88-40fe-9049-df3f4fc9d9ef button.colab-df-convert');\n",
              "        buttonEl.style.display =\n",
              "          google.colab.kernel.accessAllowed ? 'block' : 'none';\n",
              "\n",
              "        async function convertToInteractive(key) {\n",
              "          const element = document.querySelector('#df-92afaaa2-ac88-40fe-9049-df3f4fc9d9ef');\n",
              "          const dataTable =\n",
              "            await google.colab.kernel.invokeFunction('convertToInteractive',\n",
              "                                                     [key], {});\n",
              "          if (!dataTable) return;\n",
              "\n",
              "          const docLinkHtml = 'Like what you see? Visit the ' +\n",
              "            '<a target=\"_blank\" href=https://colab.research.google.com/notebooks/data_table.ipynb>data table notebook</a>'\n",
              "            + ' to learn more about interactive tables.';\n",
              "          element.innerHTML = '';\n",
              "          dataTable['output_type'] = 'display_data';\n",
              "          await google.colab.output.renderOutput(dataTable, element);\n",
              "          const docLink = document.createElement('div');\n",
              "          docLink.innerHTML = docLinkHtml;\n",
              "          element.appendChild(docLink);\n",
              "        }\n",
              "      </script>\n",
              "    </div>\n",
              "  </div>\n",
              "  "
            ]
          },
          "metadata": {},
          "execution_count": 67
        }
      ]
    },
    {
      "cell_type": "code",
      "source": [
        "# Group data into trips and take first 2.5 mins of driving to classify\n",
        "trips = []\n",
        "for i in list(set(df_transformed.uid)):\n",
        "  tmp = list(np.asarray(df_transformed[df_transformed.uid==i][0]).flatten()[0:128])\n",
        "  trips.append(tmp)  "
      ],
      "metadata": {
        "id": "WA4hHEnrXCWu"
      },
      "execution_count": null,
      "outputs": []
    },
    {
      "cell_type": "code",
      "source": [
        "# Use pad sequences to transform data into correct shape\n",
        "# If approach was to change and use entire rpm profile then this would\n",
        "# allow the model to work but would require additional masking\n",
        "train_inputs = tf.keras.preprocessing.sequence.pad_sequences(trips, padding=\"post\", dtype='float')"
      ],
      "metadata": {
        "id": "SYlJHvnycsIj"
      },
      "execution_count": null,
      "outputs": []
    },
    {
      "cell_type": "code",
      "source": [
        "# Need to repeat scaling process for test steps\n",
        "\n",
        "def scale_data(data_frame, std_scaler):\n",
        "  df_scaled = pd.DataFrame(std_scaler.transform(data_frame[['rpm']]))\n",
        "  df_joined = df_scaled.join(data_frame[['timeStamp', 'uid']])\n",
        "  trips = []\n",
        "  for i in list(set(df_joined.uid)):\n",
        "    tmp = list(np.asarray(df_joined[df_joined.uid==i][0]).flatten()[0:128])\n",
        "    trips.append(tmp)\n",
        "  scaled_inputs = tf.keras.preprocessing.sequence.pad_sequences(trips, padding=\"post\", dtype='float')\n",
        "  return scaled_inputs\n",
        "\n",
        "test_inputs = scale_data(x_test, scaler)"
      ],
      "metadata": {
        "id": "n6_VUDTpZ3-7"
      },
      "execution_count": null,
      "outputs": []
    },
    {
      "cell_type": "markdown",
      "source": [
        "###Model training"
      ],
      "metadata": {
        "id": "6GjJ0BnvehAd"
      }
    },
    {
      "cell_type": "code",
      "source": [
        "# Model structure\n",
        "\n",
        "# Going to use a 1D CNN layers modelled as an autoencoder. \n",
        "# Layers built as 128-64-1 filters with 3 as kernel size (1D window size)\n",
        "# Max pooling gives bottleneck layer of 32 dims\n",
        "\n",
        "input_window = Input(shape=(train_inputs.shape[1],1))\n",
        "x = Conv1D(128, 3, activation=\"relu\", padding=\"same\")(input_window)\n",
        "x = MaxPooling1D(2, padding=\"same\")(x)\n",
        "x = Conv1D(64, 3, activation=\"relu\", padding=\"same\")(x)\n",
        "x = MaxPooling1D(2, padding=\"same\")(x)\n",
        "\n",
        "encoded = Conv1D(1, 3, activation=\"relu\", padding=\"same\")(x)\n",
        "\n",
        "x = UpSampling1D(2)(encoded)\n",
        "x = Conv1D(64, 1, activation='relu')(x)\n",
        "x = UpSampling1D(2)(x)\n",
        "x = Conv1D(128, 3, activation=\"relu\", padding=\"same\")(x) \n",
        "\n",
        "decoded = Conv1D(1, 3, activation='sigmoid', padding='same')(x)\n",
        "autoencoder = Model(input_window, decoded)\n",
        "\n",
        "autoencoder.compile(optimizer='adam', loss='mse')\n",
        "\n",
        "autoencoder.summary()"
      ],
      "metadata": {
        "colab": {
          "base_uri": "https://localhost:8080/"
        },
        "id": "OJ_Rmd13ebyN",
        "outputId": "62b8fbbd-09c5-4a19-81da-fbae09e0c2c4"
      },
      "execution_count": null,
      "outputs": [
        {
          "output_type": "stream",
          "name": "stdout",
          "text": [
            "Model: \"model_2\"\n",
            "_________________________________________________________________\n",
            " Layer (type)                Output Shape              Param #   \n",
            "=================================================================\n",
            " input_2 (InputLayer)        [(None, 128, 1)]          0         \n",
            "                                                                 \n",
            " conv1d_6 (Conv1D)           (None, 128, 128)          512       \n",
            "                                                                 \n",
            " max_pooling1d_2 (MaxPooling  (None, 64, 128)          0         \n",
            " 1D)                                                             \n",
            "                                                                 \n",
            " conv1d_7 (Conv1D)           (None, 64, 64)            24640     \n",
            "                                                                 \n",
            " max_pooling1d_3 (MaxPooling  (None, 32, 64)           0         \n",
            " 1D)                                                             \n",
            "                                                                 \n",
            " conv1d_8 (Conv1D)           (None, 32, 1)             193       \n",
            "                                                                 \n",
            " up_sampling1d_2 (UpSampling  (None, 64, 1)            0         \n",
            " 1D)                                                             \n",
            "                                                                 \n",
            " conv1d_9 (Conv1D)           (None, 64, 64)            128       \n",
            "                                                                 \n",
            " up_sampling1d_3 (UpSampling  (None, 128, 64)          0         \n",
            " 1D)                                                             \n",
            "                                                                 \n",
            " conv1d_10 (Conv1D)          (None, 128, 128)          24704     \n",
            "                                                                 \n",
            " conv1d_11 (Conv1D)          (None, 128, 1)            385       \n",
            "                                                                 \n",
            "=================================================================\n",
            "Total params: 50,562\n",
            "Trainable params: 50,562\n",
            "Non-trainable params: 0\n",
            "_________________________________________________________________\n"
          ]
        }
      ]
    },
    {
      "cell_type": "code",
      "source": [
        "history = autoencoder.fit(\n",
        "    train_inputs, \n",
        "    train_inputs,\n",
        "    epochs=20,\n",
        "    batch_size=128,\n",
        "    validation_data=(test_inputs, test_inputs),\n",
        "    verbose=1).history"
      ],
      "metadata": {
        "colab": {
          "base_uri": "https://localhost:8080/"
        },
        "id": "Yup_bEiZf8oO",
        "outputId": "398481e2-7273-496d-8250-6e4d9ec24aab"
      },
      "execution_count": null,
      "outputs": [
        {
          "output_type": "stream",
          "name": "stdout",
          "text": [
            "Epoch 1/20\n",
            "9/9 [==============================] - 3s 189ms/step - loss: 1.1684 - val_loss: 0.9002\n",
            "Epoch 2/20\n",
            "9/9 [==============================] - 0s 11ms/step - loss: 0.8555 - val_loss: 0.7385\n",
            "Epoch 3/20\n",
            "9/9 [==============================] - 0s 11ms/step - loss: 0.7907 - val_loss: 0.7207\n",
            "Epoch 4/20\n",
            "9/9 [==============================] - 0s 11ms/step - loss: 0.7754 - val_loss: 0.7071\n",
            "Epoch 5/20\n",
            "9/9 [==============================] - 0s 11ms/step - loss: 0.7629 - val_loss: 0.6996\n",
            "Epoch 6/20\n",
            "9/9 [==============================] - 0s 13ms/step - loss: 0.7561 - val_loss: 0.6941\n",
            "Epoch 7/20\n",
            "9/9 [==============================] - 0s 12ms/step - loss: 0.7500 - val_loss: 0.6880\n",
            "Epoch 8/20\n",
            "9/9 [==============================] - 0s 11ms/step - loss: 0.7429 - val_loss: 0.6808\n",
            "Epoch 9/20\n",
            "9/9 [==============================] - 0s 12ms/step - loss: 0.7346 - val_loss: 0.6726\n",
            "Epoch 10/20\n",
            "9/9 [==============================] - 0s 12ms/step - loss: 0.7254 - val_loss: 0.6640\n",
            "Epoch 11/20\n",
            "9/9 [==============================] - 0s 11ms/step - loss: 0.7159 - val_loss: 0.6553\n",
            "Epoch 12/20\n",
            "9/9 [==============================] - 0s 11ms/step - loss: 0.7061 - val_loss: 0.6472\n",
            "Epoch 13/20\n",
            "9/9 [==============================] - 0s 11ms/step - loss: 0.6977 - val_loss: 0.6397\n",
            "Epoch 14/20\n",
            "9/9 [==============================] - 0s 11ms/step - loss: 0.6897 - val_loss: 0.6332\n",
            "Epoch 15/20\n",
            "9/9 [==============================] - 0s 10ms/step - loss: 0.6830 - val_loss: 0.6276\n",
            "Epoch 16/20\n",
            "9/9 [==============================] - 0s 11ms/step - loss: 0.6769 - val_loss: 0.6229\n",
            "Epoch 17/20\n",
            "9/9 [==============================] - 0s 11ms/step - loss: 0.6721 - val_loss: 0.6189\n",
            "Epoch 18/20\n",
            "9/9 [==============================] - 0s 11ms/step - loss: 0.6682 - val_loss: 0.6161\n",
            "Epoch 19/20\n",
            "9/9 [==============================] - 0s 11ms/step - loss: 0.6648 - val_loss: 0.6129\n",
            "Epoch 20/20\n",
            "9/9 [==============================] - 0s 11ms/step - loss: 0.6619 - val_loss: 0.6108\n"
          ]
        }
      ]
    },
    {
      "cell_type": "code",
      "source": [
        "import matplotlib.pyplot as plt\n",
        "plt.plot(history['loss'])"
      ],
      "metadata": {
        "colab": {
          "base_uri": "https://localhost:8080/",
          "height": 282
        },
        "id": "VHyg5dVAdZh-",
        "outputId": "d34aea7d-2fe0-4511-f81c-4eff8a93330e"
      },
      "execution_count": null,
      "outputs": [
        {
          "output_type": "execute_result",
          "data": {
            "text/plain": [
              "[<matplotlib.lines.Line2D at 0x7f8de0489a10>]"
            ]
          },
          "metadata": {},
          "execution_count": 73
        },
        {
          "output_type": "display_data",
          "data": {
            "text/plain": [
              "<Figure size 432x288 with 1 Axes>"
            ],
            "image/png": "[encoded data removed]"
          },
          "metadata": {
            "needs_background": "light"
          }
        }
      ]
    },
    {
      "cell_type": "code",
      "source": [
        "pred = np.reshape(train_inputs[1], (1,128))\n",
        "# If we want to see output of model final layer\n",
        "decoded = autoencoder.predict(pred)"
      ],
      "metadata": {
        "id": "ihTkc9O_iva2",
        "colab": {
          "base_uri": "https://localhost:8080/"
        },
        "outputId": "df235dbe-46d9-45d9-b21c-af57c55a8849"
      },
      "execution_count": null,
      "outputs": [
        {
          "output_type": "stream",
          "name": "stdout",
          "text": [
            "1/1 [==============================] - 0s 118ms/step\n"
          ]
        }
      ]
    },
    {
      "cell_type": "code",
      "source": [
        "# See layers of model\n",
        "autoencoder.layers"
      ],
      "metadata": {
        "colab": {
          "base_uri": "https://localhost:8080/"
        },
        "id": "BE8m0u86lul-",
        "outputId": "2261a613-642c-4437-e6f3-45b708afcc86"
      },
      "execution_count": null,
      "outputs": [
        {
          "output_type": "execute_result",
          "data": {
            "text/plain": [
              "[<keras.engine.input_layer.InputLayer at 0x7f8dde0f0e90>,\n",
              " <keras.layers.convolutional.conv1d.Conv1D at 0x7f8dde0f0dd0>,\n",
              " <keras.layers.pooling.max_pooling1d.MaxPooling1D at 0x7f8dde0f0150>,\n",
              " <keras.layers.convolutional.conv1d.Conv1D at 0x7f8dde0f0d90>,\n",
              " <keras.layers.pooling.max_pooling1d.MaxPooling1D at 0x7f8dde217c10>,\n",
              " <keras.layers.convolutional.conv1d.Conv1D at 0x7f8dde143690>,\n",
              " <keras.layers.reshaping.up_sampling1d.UpSampling1D at 0x7f8dde19e410>,\n",
              " <keras.layers.convolutional.conv1d.Conv1D at 0x7f8dde143810>,\n",
              " <keras.layers.reshaping.up_sampling1d.UpSampling1D at 0x7f8ffa15a3d0>,\n",
              " <keras.layers.convolutional.conv1d.Conv1D at 0x7f8dde19a990>,\n",
              " <keras.layers.convolutional.conv1d.Conv1D at 0x7f8dde0f62d0>]"
            ]
          },
          "metadata": {},
          "execution_count": 75
        }
      ]
    },
    {
      "cell_type": "code",
      "source": [
        "# connect the bottleneck as the output layer\n",
        "model = Model(inputs=autoencoder.inputs, outputs=autoencoder.layers[5].output)\n"
      ],
      "metadata": {
        "id": "POLYzTZNljTa"
      },
      "execution_count": null,
      "outputs": []
    },
    {
      "cell_type": "markdown",
      "source": [
        "##Dimensionality reduction and clustering"
      ],
      "metadata": {
        "id": "ZPimt6jxvpTg"
      }
    },
    {
      "cell_type": "code",
      "source": [
        "import umap\n",
        "import bokeh\n",
        "import umap.plot"
      ],
      "metadata": {
        "id": "b06WcB8_-lok"
      },
      "execution_count": null,
      "outputs": []
    },
    {
      "cell_type": "code",
      "source": [
        "# get the bottleneck vector for the data\n",
        "yhat = model.predict(train_inputs)"
      ],
      "metadata": {
        "id": "_cdn4-cGxiK3",
        "colab": {
          "base_uri": "https://localhost:8080/"
        },
        "outputId": "d18f2364-ad6b-4619-d992-df8211fc038c"
      },
      "execution_count": null,
      "outputs": [
        {
          "output_type": "stream",
          "name": "stdout",
          "text": [
            "34/34 [==============================] - 0s 6ms/step\n"
          ]
        }
      ]
    },
    {
      "cell_type": "code",
      "source": [
        "# Reshape array for umap\n",
        "umap_array = np.reshape(yhat, (yhat.shape[0], yhat.shape[1]))"
      ],
      "metadata": {
        "id": "OLku1J5y0_3-"
      },
      "execution_count": null,
      "outputs": []
    },
    {
      "cell_type": "code",
      "source": [
        "# Reduce 32 dim vector down to 2D for visualisation\n",
        "# Reason we use bottleneck layer as we want to identify the high level features\n",
        "mapper = umap.umap_.UMAP().fit(umap_array)"
      ],
      "metadata": {
        "id": "8PEYyGAnwh6p"
      },
      "execution_count": null,
      "outputs": []
    },
    {
      "cell_type": "code",
      "source": [
        "from sklearn.cluster import DBSCAN\n",
        "\n",
        "db_cluster = DBSCAN(eps=0.4, min_samples=10, algorithm='ball_tree', metric='euclidean', leaf_size=30, p=2)\n",
        "arr = db_cluster.fit_predict(mapper.embedding_)\n",
        "print(\"Clusters assigned are:\", set(db_cluster.labels_))"
      ],
      "metadata": {
        "colab": {
          "base_uri": "https://localhost:8080/"
        },
        "id": "IJ-S4GIn_42e",
        "outputId": "a3404163-2bf1-4449-f85a-6bbcc5738355"
      },
      "execution_count": null,
      "outputs": [
        {
          "output_type": "stream",
          "name": "stdout",
          "text": [
            "Clusters assigned are: {0, 1, 2, 3, 4, 5, 6, 7, 8, 9, -1}\n"
          ]
        }
      ]
    },
    {
      "cell_type": "code",
      "source": [
        "umap.plot.points(mapper, labels=db_cluster.labels_, theme='fire')"
      ],
      "metadata": {
        "colab": {
          "base_uri": "https://localhost:8080/",
          "height": 655
        },
        "id": "1OH0ds_MZuv5",
        "outputId": "7fb27cd1-6c53-4443-ece6-1d98b34f90a9"
      },
      "execution_count": null,
      "outputs": [
        {
          "output_type": "execute_result",
          "data": {
            "text/plain": [
              "<matplotlib.axes._subplots.AxesSubplot at 0x7f8e0a89a710>"
            ]
          },
          "metadata": {},
          "execution_count": 82
        },
        {
          "output_type": "display_data",
          "data": {
            "text/plain": [
              "<Figure size 800x800 with 1 Axes>"
            ],
            "image/png": "[encoded data removed]"
          },
          "metadata": {}
        }
      ]
    },
    {
      "cell_type": "code",
      "source": [
        "# Identify anomalous trips\n",
        "anomalous = [uid for index, uid in enumerate(list(set(df_transformed.uid))) if index in np.where(db_cluster.labels_ < 0)[0]]"
      ],
      "metadata": {
        "id": "gxdcolpMDA0Y"
      },
      "execution_count": null,
      "outputs": []
    },
    {
      "cell_type": "code",
      "source": [
        "fig, (ax1, ax2, ax3) = plt.subplots(3, 1)\n",
        "colours = ['black', 'green', 'yellow', 'blue', 'red']\n",
        "\n",
        "def plotter(i):\n",
        "  rpm_plots = union[union.uid==i][['timeStamp', 'rpm']][0:512]\n",
        "  rpm_plots['time_delta'] = rpm_plots.timeStamp.diff()\n",
        "  rpm_plots['time_delta'] = rpm_plots['time_delta'].dt.seconds.cumsum()\n",
        "  rpm_plots['time_delta'] = rpm_plots['time_delta'].fillna(0)\n",
        "  return rpm_plots\n",
        "\n",
        "plot_1 = plotter(anomalous[0])\n",
        "plot_2 = plotter(anomalous[1])\n",
        "plot_3 = plotter(anomalous[2])\n",
        "\n",
        "ax1.scatter(plot_1.time_delta, plot_1.rpm, color=str(colours[0]))\n",
        "ax2.scatter(plot_2.time_delta, plot_2.rpm, color=str(colours[1]))\n",
        "ax3.scatter(plot_3.time_delta, plot_3.rpm, color=str(colours[2]))\n",
        "  \n",
        "plt.show()"
      ],
      "metadata": {
        "colab": {
          "base_uri": "https://localhost:8080/",
          "height": 268
        },
        "id": "vk142dvtDTiD",
        "outputId": "e56ae5ea-eddd-42a4-c97d-bc9ad2936db8"
      },
      "execution_count": null,
      "outputs": [
        {
          "output_type": "display_data",
          "data": {
            "text/plain": [
              "<Figure size 432x288 with 3 Axes>"
            ],
            "image/png": "[encoded data removed]"
          },
          "metadata": {
            "needs_background": "light"
          }
        }
      ]
    },
    {
      "cell_type": "code",
      "source": [
        "# Find largest cluster\n",
        "np.unique(db_cluster.labels_, return_counts=True)"
      ],
      "metadata": {
        "colab": {
          "base_uri": "https://localhost:8080/"
        },
        "id": "M8aPpRX4F0gb",
        "outputId": "ce2f77ce-8939-42c5-8e3b-9c6dec1718e9"
      },
      "execution_count": null,
      "outputs": [
        {
          "output_type": "execute_result",
          "data": {
            "text/plain": [
              "(array([-1,  0,  1,  2,  3,  4,  5,  6,  7,  8,  9]),\n",
              " array([ 14, 706, 143,  24,  34,  13,  52,  30,  16,  12,  27]))"
            ]
          },
          "metadata": {},
          "execution_count": 86
        }
      ]
    },
    {
      "cell_type": "code",
      "source": [
        "# See similar trips\n",
        "cluster_1 = [uid for index, uid in enumerate(list(set(df_transformed.uid))) if index in np.where(db_cluster.labels_ == 0)[0]]\n",
        "\n",
        "fig, (ax1, ax2, ax3) = plt.subplots(3, 1)\n",
        "colours = ['black', 'green', 'yellow']\n",
        "\n",
        "plot_1 = plotter(cluster_1[1])\n",
        "plot_2 = plotter(cluster_1[2])\n",
        "plot_3 = plotter(cluster_1[3])\n",
        "\n",
        "ax1.scatter(plot_1.time_delta, plot_1.rpm, color=str(colours[0]))\n",
        "ax2.scatter(plot_2.time_delta, plot_2.rpm, color=str(colours[1]))\n",
        "ax3.scatter(plot_3.time_delta, plot_3.rpm, color=str(colours[2]))\n",
        "  \n",
        "plt.show()"
      ],
      "metadata": {
        "colab": {
          "base_uri": "https://localhost:8080/",
          "height": 265
        },
        "id": "J18YepgnE14W",
        "outputId": "5f37d6ff-7b48-4413-c85c-6193479df12f"
      },
      "execution_count": null,
      "outputs": [
        {
          "output_type": "display_data",
          "data": {
            "text/plain": [
              "<Figure size 432x288 with 3 Axes>"
            ],
            "image/png": "[encoded data removed]"
          },
          "metadata": {
            "needs_background": "light"
          }
        }
      ]
    }
  ]
}